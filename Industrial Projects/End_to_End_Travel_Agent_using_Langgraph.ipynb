{
 "cells": [
  {
   "cell_type": "markdown",
   "id": "f0fb91cc",
   "metadata": {
    "id": "f0fb91cc"
   },
   "source": [
    "# AI Travel Agent Setup\n",
    "\n",
    "This notebook sets up and runs the AI Travel Agent application in Google Colab. Follow the steps below:\n",
    "\n",
    "1. Install dependencies.\n",
    "2. Set environment variables for SerpAPI and SendGrid.\n",
    "3. Write the `travel_app.py` script to disk.\n",
    "4. Launch the Streamlit app and open it via a public URL.\n"
   ]
  },
  {
   "cell_type": "code",
   "execution_count": 2,
   "id": "69dc0abc",
   "metadata": {
    "colab": {
     "base_uri": "https://localhost:8080/"
    },
    "id": "69dc0abc",
    "outputId": "a3cb44e6-6adb-4705-c5f5-520258c8bddb"
   },
   "outputs": [
    {
     "name": "stdout",
     "output_type": "stream",
     "text": [
      "Requirement already satisfied: python-dotenv in /Users/eolanrew/miniconda3/envs/code-demo-env/envs/exercise/lib/python3.10/site-packages (1.1.1)\n",
      "Requirement already satisfied: langchain-core in /Users/eolanrew/miniconda3/envs/code-demo-env/envs/exercise/lib/python3.10/site-packages (0.3.68)\n",
      "Requirement already satisfied: langchain-openai in /Users/eolanrew/miniconda3/envs/code-demo-env/envs/exercise/lib/python3.10/site-packages (0.2.14)\n",
      "Requirement already satisfied: langgraph in /Users/eolanrew/miniconda3/envs/code-demo-env/envs/exercise/lib/python3.10/site-packages (0.5.1)\n",
      "Requirement already satisfied: sendgrid in /Users/eolanrew/miniconda3/envs/code-demo-env/envs/exercise/lib/python3.10/site-packages (6.12.4)\n",
      "Requirement already satisfied: serpapi in /Users/eolanrew/miniconda3/envs/code-demo-env/envs/exercise/lib/python3.10/site-packages (0.1.5)\n",
      "Requirement already satisfied: streamlit in /Users/eolanrew/miniconda3/envs/code-demo-env/envs/exercise/lib/python3.10/site-packages (1.46.1)\n",
      "Requirement already satisfied: nbformat in /Users/eolanrew/miniconda3/envs/code-demo-env/envs/exercise/lib/python3.10/site-packages (5.10.4)\n",
      "Requirement already satisfied: langsmith>=0.3.45 in /Users/eolanrew/miniconda3/envs/code-demo-env/envs/exercise/lib/python3.10/site-packages (from langchain-core) (0.3.45)\n",
      "Requirement already satisfied: tenacity!=8.4.0,<10.0.0,>=8.1.0 in /Users/eolanrew/miniconda3/envs/code-demo-env/envs/exercise/lib/python3.10/site-packages (from langchain-core) (9.1.2)\n",
      "Requirement already satisfied: jsonpatch<2.0,>=1.33 in /Users/eolanrew/miniconda3/envs/code-demo-env/envs/exercise/lib/python3.10/site-packages (from langchain-core) (1.33)\n",
      "Requirement already satisfied: PyYAML>=5.3 in /Users/eolanrew/miniconda3/envs/code-demo-env/envs/exercise/lib/python3.10/site-packages (from langchain-core) (6.0.2)\n",
      "Requirement already satisfied: packaging<25,>=23.2 in /Users/eolanrew/miniconda3/envs/code-demo-env/envs/exercise/lib/python3.10/site-packages (from langchain-core) (24.2)\n",
      "Requirement already satisfied: typing-extensions>=4.7 in /Users/eolanrew/miniconda3/envs/code-demo-env/envs/exercise/lib/python3.10/site-packages (from langchain-core) (4.14.1)\n",
      "Requirement already satisfied: pydantic>=2.7.4 in /Users/eolanrew/miniconda3/envs/code-demo-env/envs/exercise/lib/python3.10/site-packages (from langchain-core) (2.11.7)\n",
      "Requirement already satisfied: jsonpointer>=1.9 in /Users/eolanrew/miniconda3/envs/code-demo-env/envs/exercise/lib/python3.10/site-packages (from jsonpatch<2.0,>=1.33->langchain-core) (3.0.0)\n",
      "Requirement already satisfied: openai<2.0.0,>=1.58.1 in /Users/eolanrew/miniconda3/envs/code-demo-env/envs/exercise/lib/python3.10/site-packages (from langchain-openai) (1.93.0)\n",
      "Requirement already satisfied: tiktoken<1,>=0.7 in /Users/eolanrew/miniconda3/envs/code-demo-env/envs/exercise/lib/python3.10/site-packages (from langchain-openai) (0.9.0)\n",
      "Requirement already satisfied: anyio<5,>=3.5.0 in /Users/eolanrew/miniconda3/envs/code-demo-env/envs/exercise/lib/python3.10/site-packages (from openai<2.0.0,>=1.58.1->langchain-openai) (4.9.0)\n",
      "Requirement already satisfied: distro<2,>=1.7.0 in /Users/eolanrew/miniconda3/envs/code-demo-env/envs/exercise/lib/python3.10/site-packages (from openai<2.0.0,>=1.58.1->langchain-openai) (1.9.0)\n",
      "Requirement already satisfied: httpx<1,>=0.23.0 in /Users/eolanrew/miniconda3/envs/code-demo-env/envs/exercise/lib/python3.10/site-packages (from openai<2.0.0,>=1.58.1->langchain-openai) (0.28.1)\n",
      "Requirement already satisfied: jiter<1,>=0.4.0 in /Users/eolanrew/miniconda3/envs/code-demo-env/envs/exercise/lib/python3.10/site-packages (from openai<2.0.0,>=1.58.1->langchain-openai) (0.10.0)\n",
      "Requirement already satisfied: sniffio in /Users/eolanrew/miniconda3/envs/code-demo-env/envs/exercise/lib/python3.10/site-packages (from openai<2.0.0,>=1.58.1->langchain-openai) (1.3.1)\n",
      "Requirement already satisfied: tqdm>4 in /Users/eolanrew/miniconda3/envs/code-demo-env/envs/exercise/lib/python3.10/site-packages (from openai<2.0.0,>=1.58.1->langchain-openai) (4.67.1)\n",
      "Requirement already satisfied: exceptiongroup>=1.0.2 in /Users/eolanrew/miniconda3/envs/code-demo-env/envs/exercise/lib/python3.10/site-packages (from anyio<5,>=3.5.0->openai<2.0.0,>=1.58.1->langchain-openai) (1.3.0)\n",
      "Requirement already satisfied: idna>=2.8 in /Users/eolanrew/miniconda3/envs/code-demo-env/envs/exercise/lib/python3.10/site-packages (from anyio<5,>=3.5.0->openai<2.0.0,>=1.58.1->langchain-openai) (3.10)\n",
      "Requirement already satisfied: certifi in /Users/eolanrew/miniconda3/envs/code-demo-env/envs/exercise/lib/python3.10/site-packages (from httpx<1,>=0.23.0->openai<2.0.0,>=1.58.1->langchain-openai) (2025.6.15)\n",
      "Requirement already satisfied: httpcore==1.* in /Users/eolanrew/miniconda3/envs/code-demo-env/envs/exercise/lib/python3.10/site-packages (from httpx<1,>=0.23.0->openai<2.0.0,>=1.58.1->langchain-openai) (1.0.9)\n",
      "Requirement already satisfied: h11>=0.16 in /Users/eolanrew/miniconda3/envs/code-demo-env/envs/exercise/lib/python3.10/site-packages (from httpcore==1.*->httpx<1,>=0.23.0->openai<2.0.0,>=1.58.1->langchain-openai) (0.16.0)\n",
      "Requirement already satisfied: annotated-types>=0.6.0 in /Users/eolanrew/miniconda3/envs/code-demo-env/envs/exercise/lib/python3.10/site-packages (from pydantic>=2.7.4->langchain-core) (0.7.0)\n",
      "Requirement already satisfied: pydantic-core==2.33.2 in /Users/eolanrew/miniconda3/envs/code-demo-env/envs/exercise/lib/python3.10/site-packages (from pydantic>=2.7.4->langchain-core) (2.33.2)\n",
      "Requirement already satisfied: typing-inspection>=0.4.0 in /Users/eolanrew/miniconda3/envs/code-demo-env/envs/exercise/lib/python3.10/site-packages (from pydantic>=2.7.4->langchain-core) (0.4.1)\n",
      "Requirement already satisfied: regex>=2022.1.18 in /Users/eolanrew/miniconda3/envs/code-demo-env/envs/exercise/lib/python3.10/site-packages (from tiktoken<1,>=0.7->langchain-openai) (2024.11.6)\n",
      "Requirement already satisfied: requests>=2.26.0 in /Users/eolanrew/miniconda3/envs/code-demo-env/envs/exercise/lib/python3.10/site-packages (from tiktoken<1,>=0.7->langchain-openai) (2.32.4)\n",
      "Requirement already satisfied: langgraph-checkpoint<3.0.0,>=2.1.0 in /Users/eolanrew/miniconda3/envs/code-demo-env/envs/exercise/lib/python3.10/site-packages (from langgraph) (2.1.0)\n",
      "Requirement already satisfied: langgraph-prebuilt<0.6.0,>=0.5.0 in /Users/eolanrew/miniconda3/envs/code-demo-env/envs/exercise/lib/python3.10/site-packages (from langgraph) (0.5.2)\n",
      "Requirement already satisfied: langgraph-sdk<0.2.0,>=0.1.42 in /Users/eolanrew/miniconda3/envs/code-demo-env/envs/exercise/lib/python3.10/site-packages (from langgraph) (0.1.72)\n",
      "Requirement already satisfied: xxhash>=3.5.0 in /Users/eolanrew/miniconda3/envs/code-demo-env/envs/exercise/lib/python3.10/site-packages (from langgraph) (3.5.0)\n",
      "Requirement already satisfied: ormsgpack>=1.10.0 in /Users/eolanrew/miniconda3/envs/code-demo-env/envs/exercise/lib/python3.10/site-packages (from langgraph-checkpoint<3.0.0,>=2.1.0->langgraph) (1.10.0)\n",
      "Requirement already satisfied: orjson>=3.10.1 in /Users/eolanrew/miniconda3/envs/code-demo-env/envs/exercise/lib/python3.10/site-packages (from langgraph-sdk<0.2.0,>=0.1.42->langgraph) (3.10.18)\n",
      "Requirement already satisfied: python-http-client>=3.2.1 in /Users/eolanrew/miniconda3/envs/code-demo-env/envs/exercise/lib/python3.10/site-packages (from sendgrid) (3.3.7)\n",
      "Requirement already satisfied: ecdsa<1,>=0.19.1 in /Users/eolanrew/miniconda3/envs/code-demo-env/envs/exercise/lib/python3.10/site-packages (from sendgrid) (0.19.1)\n",
      "Requirement already satisfied: werkzeug>=1.0.0 in /Users/eolanrew/miniconda3/envs/code-demo-env/envs/exercise/lib/python3.10/site-packages (from sendgrid) (3.1.3)\n",
      "Requirement already satisfied: six>=1.9.0 in /Users/eolanrew/miniconda3/envs/code-demo-env/envs/exercise/lib/python3.10/site-packages (from ecdsa<1,>=0.19.1->sendgrid) (1.17.0)\n",
      "Requirement already satisfied: altair<6,>=4.0 in /Users/eolanrew/miniconda3/envs/code-demo-env/envs/exercise/lib/python3.10/site-packages (from streamlit) (5.5.0)\n",
      "Requirement already satisfied: blinker<2,>=1.5.0 in /Users/eolanrew/miniconda3/envs/code-demo-env/envs/exercise/lib/python3.10/site-packages (from streamlit) (1.9.0)\n",
      "Requirement already satisfied: cachetools<7,>=4.0 in /Users/eolanrew/miniconda3/envs/code-demo-env/envs/exercise/lib/python3.10/site-packages (from streamlit) (5.5.2)\n",
      "Requirement already satisfied: click<9,>=7.0 in /Users/eolanrew/miniconda3/envs/code-demo-env/envs/exercise/lib/python3.10/site-packages (from streamlit) (8.2.1)\n",
      "Requirement already satisfied: numpy<3,>=1.23 in /Users/eolanrew/miniconda3/envs/code-demo-env/envs/exercise/lib/python3.10/site-packages (from streamlit) (2.2.6)\n",
      "Requirement already satisfied: pandas<3,>=1.4.0 in /Users/eolanrew/miniconda3/envs/code-demo-env/envs/exercise/lib/python3.10/site-packages (from streamlit) (2.3.0)\n",
      "Requirement already satisfied: pillow<12,>=7.1.0 in /Users/eolanrew/miniconda3/envs/code-demo-env/envs/exercise/lib/python3.10/site-packages (from streamlit) (11.3.0)\n",
      "Requirement already satisfied: protobuf<7,>=3.20 in /Users/eolanrew/miniconda3/envs/code-demo-env/envs/exercise/lib/python3.10/site-packages (from streamlit) (5.29.5)\n",
      "Requirement already satisfied: pyarrow>=7.0 in /Users/eolanrew/miniconda3/envs/code-demo-env/envs/exercise/lib/python3.10/site-packages (from streamlit) (20.0.0)\n",
      "Requirement already satisfied: toml<2,>=0.10.1 in /Users/eolanrew/miniconda3/envs/code-demo-env/envs/exercise/lib/python3.10/site-packages (from streamlit) (0.10.2)\n",
      "Requirement already satisfied: gitpython!=3.1.19,<4,>=3.0.7 in /Users/eolanrew/miniconda3/envs/code-demo-env/envs/exercise/lib/python3.10/site-packages (from streamlit) (3.1.44)\n",
      "Requirement already satisfied: pydeck<1,>=0.8.0b4 in /Users/eolanrew/miniconda3/envs/code-demo-env/envs/exercise/lib/python3.10/site-packages (from streamlit) (0.9.1)\n",
      "Requirement already satisfied: tornado!=6.5.0,<7,>=6.0.3 in /Users/eolanrew/miniconda3/envs/code-demo-env/envs/exercise/lib/python3.10/site-packages (from streamlit) (6.5.1)\n",
      "Requirement already satisfied: jinja2 in /Users/eolanrew/miniconda3/envs/code-demo-env/envs/exercise/lib/python3.10/site-packages (from altair<6,>=4.0->streamlit) (3.1.6)\n",
      "Requirement already satisfied: jsonschema>=3.0 in /Users/eolanrew/miniconda3/envs/code-demo-env/envs/exercise/lib/python3.10/site-packages (from altair<6,>=4.0->streamlit) (4.24.0)\n",
      "Requirement already satisfied: narwhals>=1.14.2 in /Users/eolanrew/miniconda3/envs/code-demo-env/envs/exercise/lib/python3.10/site-packages (from altair<6,>=4.0->streamlit) (1.45.0)\n",
      "Requirement already satisfied: gitdb<5,>=4.0.1 in /Users/eolanrew/miniconda3/envs/code-demo-env/envs/exercise/lib/python3.10/site-packages (from gitpython!=3.1.19,<4,>=3.0.7->streamlit) (4.0.12)\n",
      "Requirement already satisfied: smmap<6,>=3.0.1 in /Users/eolanrew/miniconda3/envs/code-demo-env/envs/exercise/lib/python3.10/site-packages (from gitdb<5,>=4.0.1->gitpython!=3.1.19,<4,>=3.0.7->streamlit) (5.0.2)\n",
      "Requirement already satisfied: python-dateutil>=2.8.2 in /Users/eolanrew/miniconda3/envs/code-demo-env/envs/exercise/lib/python3.10/site-packages (from pandas<3,>=1.4.0->streamlit) (2.9.0.post0)\n",
      "Requirement already satisfied: pytz>=2020.1 in /Users/eolanrew/miniconda3/envs/code-demo-env/envs/exercise/lib/python3.10/site-packages (from pandas<3,>=1.4.0->streamlit) (2025.2)\n",
      "Requirement already satisfied: tzdata>=2022.7 in /Users/eolanrew/miniconda3/envs/code-demo-env/envs/exercise/lib/python3.10/site-packages (from pandas<3,>=1.4.0->streamlit) (2025.2)\n",
      "Requirement already satisfied: charset_normalizer<4,>=2 in /Users/eolanrew/miniconda3/envs/code-demo-env/envs/exercise/lib/python3.10/site-packages (from requests>=2.26.0->tiktoken<1,>=0.7->langchain-openai) (3.4.2)\n",
      "Requirement already satisfied: urllib3<3,>=1.21.1 in /Users/eolanrew/miniconda3/envs/code-demo-env/envs/exercise/lib/python3.10/site-packages (from requests>=2.26.0->tiktoken<1,>=0.7->langchain-openai) (2.5.0)\n",
      "Requirement already satisfied: fastjsonschema>=2.15 in /Users/eolanrew/miniconda3/envs/code-demo-env/envs/exercise/lib/python3.10/site-packages (from nbformat) (2.21.1)\n",
      "Requirement already satisfied: jupyter-core!=5.0.*,>=4.12 in /Users/eolanrew/miniconda3/envs/code-demo-env/envs/exercise/lib/python3.10/site-packages (from nbformat) (5.8.1)\n",
      "Requirement already satisfied: traitlets>=5.1 in /Users/eolanrew/miniconda3/envs/code-demo-env/envs/exercise/lib/python3.10/site-packages (from nbformat) (5.14.3)\n",
      "Requirement already satisfied: MarkupSafe>=2.0 in /Users/eolanrew/miniconda3/envs/code-demo-env/envs/exercise/lib/python3.10/site-packages (from jinja2->altair<6,>=4.0->streamlit) (3.0.2)\n",
      "Requirement already satisfied: attrs>=22.2.0 in /Users/eolanrew/miniconda3/envs/code-demo-env/envs/exercise/lib/python3.10/site-packages (from jsonschema>=3.0->altair<6,>=4.0->streamlit) (25.3.0)\n",
      "Requirement already satisfied: jsonschema-specifications>=2023.03.6 in /Users/eolanrew/miniconda3/envs/code-demo-env/envs/exercise/lib/python3.10/site-packages (from jsonschema>=3.0->altair<6,>=4.0->streamlit) (2025.4.1)\n",
      "Requirement already satisfied: referencing>=0.28.4 in /Users/eolanrew/miniconda3/envs/code-demo-env/envs/exercise/lib/python3.10/site-packages (from jsonschema>=3.0->altair<6,>=4.0->streamlit) (0.36.2)\n",
      "Requirement already satisfied: rpds-py>=0.7.1 in /Users/eolanrew/miniconda3/envs/code-demo-env/envs/exercise/lib/python3.10/site-packages (from jsonschema>=3.0->altair<6,>=4.0->streamlit) (0.26.0)\n",
      "Requirement already satisfied: platformdirs>=2.5 in /Users/eolanrew/miniconda3/envs/code-demo-env/envs/exercise/lib/python3.10/site-packages (from jupyter-core!=5.0.*,>=4.12->nbformat) (4.3.8)\n",
      "Requirement already satisfied: requests-toolbelt<2.0.0,>=1.0.0 in /Users/eolanrew/miniconda3/envs/code-demo-env/envs/exercise/lib/python3.10/site-packages (from langsmith>=0.3.45->langchain-core) (1.0.0)\n",
      "Requirement already satisfied: zstandard<0.24.0,>=0.23.0 in /Users/eolanrew/miniconda3/envs/code-demo-env/envs/exercise/lib/python3.10/site-packages (from langsmith>=0.3.45->langchain-core) (0.23.0)\n"
     ]
    }
   ],
   "source": [
    "!pip install python-dotenv langchain-core langchain-openai langgraph sendgrid serpapi streamlit nbformat\n"
   ]
  },
  {
   "cell_type": "markdown",
   "id": "4fdf45e7",
   "metadata": {
    "id": "4fdf45e7"
   },
   "source": [
    "## 2. Set Environment Variables\n",
    "\n",
    "Replace the placeholder strings with your actual API keys and verified email addresses. Run the following cell to set the environment variables.\n"
   ]
  },
  {
   "cell_type": "code",
   "execution_count": 3,
   "id": "93144fb5",
   "metadata": {
    "id": "93144fb5"
   },
   "outputs": [],
   "source": [
    "import os\n",
    "\n",
    "os.environ[\"OPENAI_API_KEY\"] = \"\"\n",
    "\n",
    "\n",
    "# Replace the following placeholder values with your own credentials\n",
    "os.environ[\"SERPAPI_API_KEY\"] = \"\" #Get real-time search results from Google and other search engines via API\n",
    "os.environ[\"SENDGRID_API_KEY\"] = \"\" #Send emails programmatically\n",
    "os.environ[\"FROM_EMAIL\"] = \"\"\n",
    "os.environ[\"TO_EMAIL\"] = \"\"\n",
    "os.environ[\"EMAIL_SUBJECT\"] = \"Travel Information\""
   ]
  },
  {
   "cell_type": "markdown",
   "id": "96f07d08",
   "metadata": {
    "id": "96f07d08"
   },
   "source": [
    "## 3. Write the `travel_app.py` Script\n",
    "\n",
    "The following cell writes the complete `travel_app.py` file to `/mnt/data/travel_app.py`. This script contains the Streamlit application, the agent logic, and the tool definitions.\n"
   ]
  },
  {
   "cell_type": "code",
   "execution_count": 4,
   "id": "24faea20",
   "metadata": {},
   "outputs": [
    {
     "name": "stdout",
     "output_type": "stream",
     "text": [
      "Requirement already satisfied: langchain in /Users/eolanrew/miniconda3/envs/code-demo-env/envs/exercise/lib/python3.10/site-packages (0.3.26)\n",
      "Requirement already satisfied: langchain-core<1.0.0,>=0.3.66 in /Users/eolanrew/miniconda3/envs/code-demo-env/envs/exercise/lib/python3.10/site-packages (from langchain) (0.3.68)\n",
      "Requirement already satisfied: langchain-text-splitters<1.0.0,>=0.3.8 in /Users/eolanrew/miniconda3/envs/code-demo-env/envs/exercise/lib/python3.10/site-packages (from langchain) (0.3.8)\n",
      "Requirement already satisfied: langsmith>=0.1.17 in /Users/eolanrew/miniconda3/envs/code-demo-env/envs/exercise/lib/python3.10/site-packages (from langchain) (0.3.45)\n",
      "Requirement already satisfied: pydantic<3.0.0,>=2.7.4 in /Users/eolanrew/miniconda3/envs/code-demo-env/envs/exercise/lib/python3.10/site-packages (from langchain) (2.11.7)\n",
      "Requirement already satisfied: SQLAlchemy<3,>=1.4 in /Users/eolanrew/miniconda3/envs/code-demo-env/envs/exercise/lib/python3.10/site-packages (from langchain) (2.0.41)\n",
      "Requirement already satisfied: requests<3,>=2 in /Users/eolanrew/miniconda3/envs/code-demo-env/envs/exercise/lib/python3.10/site-packages (from langchain) (2.32.4)\n",
      "Requirement already satisfied: PyYAML>=5.3 in /Users/eolanrew/miniconda3/envs/code-demo-env/envs/exercise/lib/python3.10/site-packages (from langchain) (6.0.2)\n",
      "Requirement already satisfied: async-timeout<5.0.0,>=4.0.0 in /Users/eolanrew/miniconda3/envs/code-demo-env/envs/exercise/lib/python3.10/site-packages (from langchain) (4.0.3)\n",
      "Requirement already satisfied: tenacity!=8.4.0,<10.0.0,>=8.1.0 in /Users/eolanrew/miniconda3/envs/code-demo-env/envs/exercise/lib/python3.10/site-packages (from langchain-core<1.0.0,>=0.3.66->langchain) (9.1.2)\n",
      "Requirement already satisfied: jsonpatch<2.0,>=1.33 in /Users/eolanrew/miniconda3/envs/code-demo-env/envs/exercise/lib/python3.10/site-packages (from langchain-core<1.0.0,>=0.3.66->langchain) (1.33)\n",
      "Requirement already satisfied: packaging<25,>=23.2 in /Users/eolanrew/miniconda3/envs/code-demo-env/envs/exercise/lib/python3.10/site-packages (from langchain-core<1.0.0,>=0.3.66->langchain) (24.2)\n",
      "Requirement already satisfied: typing-extensions>=4.7 in /Users/eolanrew/miniconda3/envs/code-demo-env/envs/exercise/lib/python3.10/site-packages (from langchain-core<1.0.0,>=0.3.66->langchain) (4.14.1)\n",
      "Requirement already satisfied: jsonpointer>=1.9 in /Users/eolanrew/miniconda3/envs/code-demo-env/envs/exercise/lib/python3.10/site-packages (from jsonpatch<2.0,>=1.33->langchain-core<1.0.0,>=0.3.66->langchain) (3.0.0)\n",
      "Requirement already satisfied: annotated-types>=0.6.0 in /Users/eolanrew/miniconda3/envs/code-demo-env/envs/exercise/lib/python3.10/site-packages (from pydantic<3.0.0,>=2.7.4->langchain) (0.7.0)\n",
      "Requirement already satisfied: pydantic-core==2.33.2 in /Users/eolanrew/miniconda3/envs/code-demo-env/envs/exercise/lib/python3.10/site-packages (from pydantic<3.0.0,>=2.7.4->langchain) (2.33.2)\n",
      "Requirement already satisfied: typing-inspection>=0.4.0 in /Users/eolanrew/miniconda3/envs/code-demo-env/envs/exercise/lib/python3.10/site-packages (from pydantic<3.0.0,>=2.7.4->langchain) (0.4.1)\n",
      "Requirement already satisfied: charset_normalizer<4,>=2 in /Users/eolanrew/miniconda3/envs/code-demo-env/envs/exercise/lib/python3.10/site-packages (from requests<3,>=2->langchain) (3.4.2)\n",
      "Requirement already satisfied: idna<4,>=2.5 in /Users/eolanrew/miniconda3/envs/code-demo-env/envs/exercise/lib/python3.10/site-packages (from requests<3,>=2->langchain) (3.10)\n",
      "Requirement already satisfied: urllib3<3,>=1.21.1 in /Users/eolanrew/miniconda3/envs/code-demo-env/envs/exercise/lib/python3.10/site-packages (from requests<3,>=2->langchain) (2.5.0)\n",
      "Requirement already satisfied: certifi>=2017.4.17 in /Users/eolanrew/miniconda3/envs/code-demo-env/envs/exercise/lib/python3.10/site-packages (from requests<3,>=2->langchain) (2025.6.15)\n",
      "Requirement already satisfied: httpx<1,>=0.23.0 in /Users/eolanrew/miniconda3/envs/code-demo-env/envs/exercise/lib/python3.10/site-packages (from langsmith>=0.1.17->langchain) (0.28.1)\n",
      "Requirement already satisfied: orjson<4.0.0,>=3.9.14 in /Users/eolanrew/miniconda3/envs/code-demo-env/envs/exercise/lib/python3.10/site-packages (from langsmith>=0.1.17->langchain) (3.10.18)\n",
      "Requirement already satisfied: requests-toolbelt<2.0.0,>=1.0.0 in /Users/eolanrew/miniconda3/envs/code-demo-env/envs/exercise/lib/python3.10/site-packages (from langsmith>=0.1.17->langchain) (1.0.0)\n",
      "Requirement already satisfied: zstandard<0.24.0,>=0.23.0 in /Users/eolanrew/miniconda3/envs/code-demo-env/envs/exercise/lib/python3.10/site-packages (from langsmith>=0.1.17->langchain) (0.23.0)\n",
      "Requirement already satisfied: anyio in /Users/eolanrew/miniconda3/envs/code-demo-env/envs/exercise/lib/python3.10/site-packages (from httpx<1,>=0.23.0->langsmith>=0.1.17->langchain) (4.9.0)\n",
      "Requirement already satisfied: httpcore==1.* in /Users/eolanrew/miniconda3/envs/code-demo-env/envs/exercise/lib/python3.10/site-packages (from httpx<1,>=0.23.0->langsmith>=0.1.17->langchain) (1.0.9)\n",
      "Requirement already satisfied: h11>=0.16 in /Users/eolanrew/miniconda3/envs/code-demo-env/envs/exercise/lib/python3.10/site-packages (from httpcore==1.*->httpx<1,>=0.23.0->langsmith>=0.1.17->langchain) (0.16.0)\n",
      "Requirement already satisfied: exceptiongroup>=1.0.2 in /Users/eolanrew/miniconda3/envs/code-demo-env/envs/exercise/lib/python3.10/site-packages (from anyio->httpx<1,>=0.23.0->langsmith>=0.1.17->langchain) (1.3.0)\n",
      "Requirement already satisfied: sniffio>=1.1 in /Users/eolanrew/miniconda3/envs/code-demo-env/envs/exercise/lib/python3.10/site-packages (from anyio->httpx<1,>=0.23.0->langsmith>=0.1.17->langchain) (1.3.1)\n"
     ]
    }
   ],
   "source": [
    "!pip install langchain\n"
   ]
  },
  {
   "cell_type": "code",
   "execution_count": 5,
   "id": "wGP_nv1pd765",
   "metadata": {
    "colab": {
     "base_uri": "https://localhost:8080/"
    },
    "id": "wGP_nv1pd765",
    "outputId": "23ed3628-72d4-49f9-cbfb-5086b529b1a2"
   },
   "outputs": [
    {
     "name": "stderr",
     "output_type": "stream",
     "text": [
      "/Users/eolanrew/miniconda3/envs/code-demo-env/envs/exercise/lib/python3.10/site-packages/IPython/core/interactiveshell.py:3579: LangChainDeprecationWarning: As of langchain-core 0.3.0, LangChain uses pydantic v2 internally. The langchain.pydantic_v1 module was a compatibility shim for pydantic v1, and should no longer be used. Please update the code to import from Pydantic directly.\n",
      "\n",
      "For example, replace imports like: `from langchain.pydantic_v1 import BaseModel`\n",
      "with: `from pydantic import BaseModel`\n",
      "or the v1 compatibility namespace if you are working in a code base that has not been fully upgraded to pydantic 2 yet. \tfrom pydantic.v1 import BaseModel\n",
      "\n",
      "  exec(code_obj, self.user_global_ns, self.user_ns)\n"
     ]
    }
   ],
   "source": [
    "# pylint: disable = http-used,print-used,no-self-use,invalid-name\n",
    "import datetime\n",
    "import operator\n",
    "import os\n",
    "import uuid\n",
    "\n",
    "from typing import Annotated, TypedDict, Optional\n",
    "from dotenv import load_dotenv\n",
    "from langchain_core.messages import AnyMessage, HumanMessage, SystemMessage, ToolMessage\n",
    "from langchain_openai import ChatOpenAI\n",
    "from langgraph.checkpoint.memory import MemorySaver\n",
    "from langgraph.graph import END, StateGraph\n",
    "from sendgrid import SendGridAPIClient\n",
    "from sendgrid.helpers.mail import Mail\n",
    "import serpapi\n",
    "\n",
    "# Tool definitions\n",
    "from langchain.pydantic_v1 import BaseModel, Field\n",
    "from langchain_core.tools import tool\n",
    "\n",
    "# Load environment variables from a .env file\n",
    "_ = load_dotenv()"
   ]
  },
  {
   "cell_type": "code",
   "execution_count": 6,
   "id": "fPOofipId9JB",
   "metadata": {
    "id": "fPOofipId9JB"
   },
   "outputs": [],
   "source": [
    "CURRENT_YEAR = datetime.datetime.now().year\n"
   ]
  },
  {
   "cell_type": "code",
   "execution_count": 7,
   "id": "lMzGDTiqd_DO",
   "metadata": {
    "id": "lMzGDTiqd_DO"
   },
   "outputs": [],
   "source": [
    "class AgentState(TypedDict):\n",
    "    messages: Annotated[list[AnyMessage], operator.add]\n",
    "\n",
    "\n",
    "TOOLS_SYSTEM_PROMPT = f\"\"\"\n",
    "You are an intelligent and helpful travel assistant. Use your available tools to gather accurate and up-to-date travel information.\n",
    "You may make multiple tool calls, either in sequence or together, to fully complete a task.\n",
    "\n",
    "Guidelines:\n",
    "- Only perform searches when you clearly understand what you are looking for.\n",
    "- If flight results are missing or incomplete, continue searching until you find suitable options.\n",
    "- You are allowed to gather additional information before asking follow-up questions.\n",
    "- Always provide complete details, including:\n",
    "    • Direct links to hotel and airline websites (when available).\n",
    "    • Logos of the hotel and airline companies (if available).\n",
    "    • Clear pricing for both flights and hotels, with the appropriate currency symbols.\n",
    "\n",
    "Example hotel pricing format:\n",
    "    Rate: $581 per night\n",
    "    Total: $3,488\n",
    "\n",
    "The current year is {CURRENT_YEAR}.\n",
    "\"\"\"\n",
    "\n",
    "\n",
    "# ----- Flights tool -----\n",
    "class FlightsInput(BaseModel):\n",
    "    departure_airport: Optional[str] = Field(description='Departure airport code (IATA)')\n",
    "    arrival_airport: Optional[str]   = Field(description='Arrival airport code (IATA)')\n",
    "    outbound_date: Optional[str]      = Field(description='Outbound date (YYYY-MM-DD)')\n",
    "    return_date: Optional[str]        = Field(description='Return date (YYYY-MM-DD)')\n",
    "    adults: Optional[int] = Field(1, description='Number of adults (default 1)')\n",
    "    children: Optional[int] = Field(0, description='Number of children (default 0)')\n",
    "    infants_in_seat: Optional[int] = Field(0, description='Number of infants in seat (default 0)')\n",
    "    infants_on_lap: Optional[int]   = Field(0, description='Number of infants on lap (default 0)')\n",
    "\n",
    "class FlightsInputSchema(BaseModel):\n",
    "    params: FlightsInput\n",
    "\n",
    "@tool(args_schema=FlightsInputSchema)\n",
    "def flights_finder(params: FlightsInput):\n",
    "    \"\"\"\n",
    "    Find flights using the Google Flights engine (via SerpAPI).\n",
    "    Returns:\n",
    "        dict or str: Flight search results or error message.\n",
    "    \"\"\"\n",
    "    query = {\n",
    "        'api_key': os.environ.get('SERPAPI_API_KEY'),\n",
    "        'engine': 'google_flights',\n",
    "        'hl': 'en',\n",
    "        'gl': 'us',\n",
    "        'departure_id': params.departure_airport,\n",
    "        'arrival_id': params.arrival_airport,\n",
    "        'outbound_date': params.outbound_date,\n",
    "        'return_date': params.return_date,\n",
    "        'currency': 'USD',\n",
    "        'adults': params.adults,\n",
    "        'infants_in_seat': params.infants_in_seat,\n",
    "        'stops': '1',\n",
    "        'infants_on_lap': params.infants_on_lap,\n",
    "        'children': params.children\n",
    "    }\n",
    "    try:\n",
    "        search = serpapi.search(query)\n",
    "        return search.data['best_flights']\n",
    "    except Exception as e:\n",
    "        return str(e)\n"
   ]
  },
  {
   "cell_type": "code",
   "execution_count": 10,
   "id": "Ej-qjHSYeHwa",
   "metadata": {
    "id": "Ej-qjHSYeHwa"
   },
   "outputs": [],
   "source": [
    "# ----- Hotels tool -----\n",
    "class HotelsInput(BaseModel):\n",
    "    q: str = Field(description='Location for hotels (e.g., \"New York\")')\n",
    "    check_in_date: str  = Field(description='Check-in date (YYYY-MM-DD)')\n",
    "    check_out_date: str = Field(description='Check-out date (YYYY-MM-DD)')\n",
    "    sort_by: Optional[str] = Field(8, description='Sorting parameter (default=8 for rating)')\n",
    "    adults: Optional[int]   = Field(1, description='Number of adults (default 1)')\n",
    "    children: Optional[int] = Field(0, description='Number of children (default 0)')\n",
    "    rooms: Optional[int]    = Field(1, description='Number of rooms (default 1)')\n",
    "    hotel_class: Optional[str] = Field(None, description='Filter by hotel class (e.g., \"3\" or \"4\")')\n",
    "\n",
    "class HotelsInputSchema(BaseModel):\n",
    "    params: HotelsInput\n",
    "\n",
    "@tool(args_schema=HotelsInputSchema)\n",
    "def hotels_finder(params: HotelsInput):\n",
    "    \"\"\"\n",
    "    Find hotels using the Google Hotels engine (via SerpAPI).\n",
    "    Returns:\n",
    "        list or str: Up to 5 hotel property dicts or error message.\n",
    "    \"\"\"\n",
    "    query = {\n",
    "        'api_key': os.environ.get('SERPAPI_API_KEY'),\n",
    "        'engine': 'google_hotels',\n",
    "        'hl': 'en',\n",
    "        'gl': 'us',\n",
    "        'q': params.q,\n",
    "        'check_in_date': params.check_in_date,\n",
    "        'check_out_date': params.check_out_date,\n",
    "        'currency': 'USD',\n",
    "        'adults': params.adults,\n",
    "        'children': params.children,\n",
    "        'rooms': params.rooms,\n",
    "        'sort_by': params.sort_by,\n",
    "        'hotel_class': params.hotel_class\n",
    "    }\n",
    "    try:\n",
    "        search = serpapi.search(query)\n",
    "        data = search.data\n",
    "        return data['properties'][:5]\n",
    "    except Exception as e:\n",
    "        return str(e)\n"
   ]
  },
  {
   "cell_type": "code",
   "execution_count": 11,
   "id": "lXuDw9F2eKkn",
   "metadata": {
    "id": "lXuDw9F2eKkn"
   },
   "outputs": [],
   "source": [
    "TOOLS = [flights_finder, hotels_finder]"
   ]
  },
  {
   "cell_type": "code",
   "execution_count": 12,
   "id": "MzPVN4oreMku",
   "metadata": {
    "id": "MzPVN4oreMku"
   },
   "outputs": [],
   "source": [
    "EMAILS_SYSTEM_PROMPT = \"\"\"Your task is to convert structured markdown-like text into a valid HTML email body.\n",
    "- Do not include a ```html preamble in your response.\n",
    "- The output should be proper HTML, ready to be used as an email body.\n",
    "\"\"\""
   ]
  },
  {
   "cell_type": "code",
   "execution_count": 14,
   "id": "f6f25475",
   "metadata": {
    "id": "f6f25475"
   },
   "outputs": [],
   "source": [
    "\n",
    "class Agent:\n",
    "    def __init__(self):\n",
    "        # Map name → tool function\n",
    "        self._tools = {t.name: t for t in TOOLS}\n",
    "        # A ChatOpenAI instance bound to both tools\n",
    "        self._tools_llm = ChatOpenAI(model='gpt-4o').bind_tools(TOOLS)\n",
    "\n",
    "        # Build the LangGraph state machine\n",
    "        builder = StateGraph(AgentState)\n",
    "        builder.add_node('call_tools_llm', self.call_tools_llm)\n",
    "        builder.add_node('invoke_tools', self.invoke_tools)\n",
    "        builder.add_node('email_sender', self.email_sender)\n",
    "        builder.set_entry_point('call_tools_llm')\n",
    "\n",
    "        # If the LLM's last message has no tool calls → go to email_sender\n",
    "        builder.add_conditional_edges(\n",
    "            'call_tools_llm',\n",
    "            Agent.exists_action,\n",
    "            {'more_tools': 'invoke_tools', 'email_sender': 'email_sender'}\n",
    "        )\n",
    "        builder.add_edge('invoke_tools', 'call_tools_llm')\n",
    "        builder.add_edge('email_sender', END)\n",
    "\n",
    "        memory = MemorySaver()\n",
    "        self.graph = builder.compile(checkpointer=memory, interrupt_before=['email_sender'])\n",
    "\n",
    "    @staticmethod\n",
    "    def exists_action(state: AgentState):\n",
    "        # If the last LLM response contains no tool_calls, move to email_sender\n",
    "        result = state['messages'][-1]\n",
    "        if len(result.tool_calls) == 0:\n",
    "            return 'email_sender'\n",
    "        return 'more_tools'\n",
    "\n",
    "    def call_tools_llm(self, state: AgentState):\n",
    "        # Prepend our system prompt, then ask the LLM to pick which tools to call\n",
    "        messages = state['messages']\n",
    "        messages = [SystemMessage(content=TOOLS_SYSTEM_PROMPT)] + messages\n",
    "        message = self._tools_llm.invoke(messages)\n",
    "        return {'messages': [message]}\n",
    "\n",
    "    def invoke_tools(self, state: AgentState):\n",
    "        # Execute each requested tool and wrap results in ToolMessages\n",
    "        tool_calls = state['messages'][-1].tool_calls\n",
    "        results = []\n",
    "        for t in tool_calls:\n",
    "            if t['name'] not in self._tools:\n",
    "                results.append(\n",
    "                    ToolMessage(tool_call_id=t['id'], name=t['name'], content=\"Bad tool name\")\n",
    "                )\n",
    "            else:\n",
    "                result = self._tools[t['name']].invoke(t['args'])\n",
    "                results.append(\n",
    "                    ToolMessage(tool_call_id=t['id'], name=t['name'], content=str(result))\n",
    "                )\n",
    "        return {'messages': results}\n",
    "\n",
    "    def email_sender(self, state: AgentState):\n",
    "        # (We won't actually use this node for Gradio; see below.)\n",
    "        return {'messages': []}\n",
    "\n",
    "\n",
    "# ===== 3) Helper function to send email via SendGrid =====\n",
    "\n",
    "def send_html_email(travel_html: str, sender: str, receiver: str, subject: str) -> str:\n",
    "    \"\"\"\n",
    "    Uses SendGrid to send travel_html as the email body.\n",
    "    Returns a status string.\n",
    "    \"\"\"\n",
    "    message = Mail(\n",
    "        from_email=sender,\n",
    "        to_emails=receiver,\n",
    "        subject=subject,\n",
    "        html_content=travel_html\n",
    "    )\n",
    "    try:\n",
    "        sg = SendGridAPIClient(os.environ.get('SENDGRID_API_KEY'))\n",
    "        resp = sg.send(message)\n",
    "        return f\"Email sent (status {resp.status_code})\"\n",
    "    except Exception as e:\n",
    "        return f\"Error sending email: {e}\"\n"
   ]
  },
  {
   "cell_type": "code",
   "execution_count": 15,
   "id": "Qiqas247ht94",
   "metadata": {
    "id": "Qiqas247ht94"
   },
   "outputs": [],
   "source": [
    "# ===== 4) Instantiate a single global Agent =====\n",
    "\n",
    "agent = Agent()"
   ]
  },
  {
   "cell_type": "code",
   "execution_count": 16,
   "id": "gyDcXkSXiLNq",
   "metadata": {
    "id": "gyDcXkSXiLNq"
   },
   "outputs": [],
   "source": [
    "# ===== 5) Gradio callables =====\n",
    "\n",
    "def process_query_gradio(user_query: str) -> str:\n",
    "    \"\"\"\n",
    "    Run the agent on the given travel query string, return the final text output.\n",
    "    \"\"\"\n",
    "    thread_id = str(uuid.uuid4())\n",
    "    # Create a single HumanMessage containing the entire query\n",
    "    messages = [HumanMessage(content=user_query)]\n",
    "    config = {'configurable': {'thread_id': thread_id}}\n",
    "\n",
    "    result = agent.graph.invoke({'messages': messages}, config=config)\n",
    "    # The agent’s final response (no further tool calls) is the last message’s .content\n",
    "    return result['messages'][-1].content\n"
   ]
  },
  {
   "cell_type": "code",
   "execution_count": 17,
   "id": "rpOBiOreiL4j",
   "metadata": {
    "id": "rpOBiOreiL4j"
   },
   "outputs": [],
   "source": [
    "def process_email_gradio(travel_info: str, sender: str, receiver: str, subject: str) -> str:\n",
    "    \"\"\"\n",
    "    Take the travel_info (HTML or plain text from the agent),\n",
    "    plus sender/receiver/subject, and send via SendGrid.\n",
    "    \"\"\"\n",
    "    if not sender or not receiver or not subject or not travel_info:\n",
    "        return \"Error: All fields are required.\"\n",
    "    return send_html_email(travel_info, sender, receiver, subject)"
   ]
  },
  {
   "cell_type": "code",
   "execution_count": 18,
   "id": "BooZ2A7Vg0Ti",
   "metadata": {
    "colab": {
     "base_uri": "https://localhost:8080/"
    },
    "id": "BooZ2A7Vg0Ti",
    "outputId": "6b06f50d-5dce-46b8-e014-7d5131db3e65"
   },
   "outputs": [
    {
     "name": "stdout",
     "output_type": "stream",
     "text": [
      "Requirement already satisfied: gradio in /Users/eolanrew/miniconda3/envs/code-demo-env/envs/exercise/lib/python3.10/site-packages (5.35.0)\n",
      "Requirement already satisfied: aiofiles<25.0,>=22.0 in /Users/eolanrew/miniconda3/envs/code-demo-env/envs/exercise/lib/python3.10/site-packages (from gradio) (24.1.0)\n",
      "Requirement already satisfied: anyio<5.0,>=3.0 in /Users/eolanrew/miniconda3/envs/code-demo-env/envs/exercise/lib/python3.10/site-packages (from gradio) (4.9.0)\n",
      "Requirement already satisfied: fastapi<1.0,>=0.115.2 in /Users/eolanrew/miniconda3/envs/code-demo-env/envs/exercise/lib/python3.10/site-packages (from gradio) (0.115.14)\n",
      "Requirement already satisfied: ffmpy in /Users/eolanrew/miniconda3/envs/code-demo-env/envs/exercise/lib/python3.10/site-packages (from gradio) (0.6.0)\n",
      "Requirement already satisfied: gradio-client==1.10.4 in /Users/eolanrew/miniconda3/envs/code-demo-env/envs/exercise/lib/python3.10/site-packages (from gradio) (1.10.4)\n",
      "Requirement already satisfied: groovy~=0.1 in /Users/eolanrew/miniconda3/envs/code-demo-env/envs/exercise/lib/python3.10/site-packages (from gradio) (0.1.2)\n",
      "Requirement already satisfied: httpx>=0.24.1 in /Users/eolanrew/miniconda3/envs/code-demo-env/envs/exercise/lib/python3.10/site-packages (from gradio) (0.28.1)\n",
      "Requirement already satisfied: huggingface-hub>=0.28.1 in /Users/eolanrew/miniconda3/envs/code-demo-env/envs/exercise/lib/python3.10/site-packages (from gradio) (0.33.2)\n",
      "Requirement already satisfied: jinja2<4.0 in /Users/eolanrew/miniconda3/envs/code-demo-env/envs/exercise/lib/python3.10/site-packages (from gradio) (3.1.6)\n",
      "Requirement already satisfied: markupsafe<4.0,>=2.0 in /Users/eolanrew/miniconda3/envs/code-demo-env/envs/exercise/lib/python3.10/site-packages (from gradio) (3.0.2)\n",
      "Requirement already satisfied: numpy<3.0,>=1.0 in /Users/eolanrew/miniconda3/envs/code-demo-env/envs/exercise/lib/python3.10/site-packages (from gradio) (2.2.6)\n",
      "Requirement already satisfied: orjson~=3.0 in /Users/eolanrew/miniconda3/envs/code-demo-env/envs/exercise/lib/python3.10/site-packages (from gradio) (3.10.18)\n",
      "Requirement already satisfied: packaging in /Users/eolanrew/miniconda3/envs/code-demo-env/envs/exercise/lib/python3.10/site-packages (from gradio) (24.2)\n",
      "Requirement already satisfied: pandas<3.0,>=1.0 in /Users/eolanrew/miniconda3/envs/code-demo-env/envs/exercise/lib/python3.10/site-packages (from gradio) (2.3.0)\n",
      "Requirement already satisfied: pillow<12.0,>=8.0 in /Users/eolanrew/miniconda3/envs/code-demo-env/envs/exercise/lib/python3.10/site-packages (from gradio) (11.3.0)\n",
      "Requirement already satisfied: pydantic<2.12,>=2.0 in /Users/eolanrew/miniconda3/envs/code-demo-env/envs/exercise/lib/python3.10/site-packages (from gradio) (2.11.7)\n",
      "Requirement already satisfied: pydub in /Users/eolanrew/miniconda3/envs/code-demo-env/envs/exercise/lib/python3.10/site-packages (from gradio) (0.25.1)\n",
      "Requirement already satisfied: python-multipart>=0.0.18 in /Users/eolanrew/miniconda3/envs/code-demo-env/envs/exercise/lib/python3.10/site-packages (from gradio) (0.0.20)\n",
      "Requirement already satisfied: pyyaml<7.0,>=5.0 in /Users/eolanrew/miniconda3/envs/code-demo-env/envs/exercise/lib/python3.10/site-packages (from gradio) (6.0.2)\n",
      "Requirement already satisfied: ruff>=0.9.3 in /Users/eolanrew/miniconda3/envs/code-demo-env/envs/exercise/lib/python3.10/site-packages (from gradio) (0.12.2)\n",
      "Requirement already satisfied: safehttpx<0.2.0,>=0.1.6 in /Users/eolanrew/miniconda3/envs/code-demo-env/envs/exercise/lib/python3.10/site-packages (from gradio) (0.1.6)\n",
      "Requirement already satisfied: semantic-version~=2.0 in /Users/eolanrew/miniconda3/envs/code-demo-env/envs/exercise/lib/python3.10/site-packages (from gradio) (2.10.0)\n",
      "Requirement already satisfied: starlette<1.0,>=0.40.0 in /Users/eolanrew/miniconda3/envs/code-demo-env/envs/exercise/lib/python3.10/site-packages (from gradio) (0.46.2)\n",
      "Requirement already satisfied: tomlkit<0.14.0,>=0.12.0 in /Users/eolanrew/miniconda3/envs/code-demo-env/envs/exercise/lib/python3.10/site-packages (from gradio) (0.13.3)\n",
      "Requirement already satisfied: typer<1.0,>=0.12 in /Users/eolanrew/miniconda3/envs/code-demo-env/envs/exercise/lib/python3.10/site-packages (from gradio) (0.16.0)\n",
      "Requirement already satisfied: typing-extensions~=4.0 in /Users/eolanrew/miniconda3/envs/code-demo-env/envs/exercise/lib/python3.10/site-packages (from gradio) (4.14.1)\n",
      "Requirement already satisfied: uvicorn>=0.14.0 in /Users/eolanrew/miniconda3/envs/code-demo-env/envs/exercise/lib/python3.10/site-packages (from gradio) (0.35.0)\n",
      "Requirement already satisfied: fsspec in /Users/eolanrew/miniconda3/envs/code-demo-env/envs/exercise/lib/python3.10/site-packages (from gradio-client==1.10.4->gradio) (2025.5.1)\n",
      "Requirement already satisfied: websockets<16.0,>=10.0 in /Users/eolanrew/miniconda3/envs/code-demo-env/envs/exercise/lib/python3.10/site-packages (from gradio-client==1.10.4->gradio) (15.0.1)\n",
      "Requirement already satisfied: exceptiongroup>=1.0.2 in /Users/eolanrew/miniconda3/envs/code-demo-env/envs/exercise/lib/python3.10/site-packages (from anyio<5.0,>=3.0->gradio) (1.3.0)\n",
      "Requirement already satisfied: idna>=2.8 in /Users/eolanrew/miniconda3/envs/code-demo-env/envs/exercise/lib/python3.10/site-packages (from anyio<5.0,>=3.0->gradio) (3.10)\n",
      "Requirement already satisfied: sniffio>=1.1 in /Users/eolanrew/miniconda3/envs/code-demo-env/envs/exercise/lib/python3.10/site-packages (from anyio<5.0,>=3.0->gradio) (1.3.1)\n",
      "Requirement already satisfied: python-dateutil>=2.8.2 in /Users/eolanrew/miniconda3/envs/code-demo-env/envs/exercise/lib/python3.10/site-packages (from pandas<3.0,>=1.0->gradio) (2.9.0.post0)\n",
      "Requirement already satisfied: pytz>=2020.1 in /Users/eolanrew/miniconda3/envs/code-demo-env/envs/exercise/lib/python3.10/site-packages (from pandas<3.0,>=1.0->gradio) (2025.2)\n",
      "Requirement already satisfied: tzdata>=2022.7 in /Users/eolanrew/miniconda3/envs/code-demo-env/envs/exercise/lib/python3.10/site-packages (from pandas<3.0,>=1.0->gradio) (2025.2)\n",
      "Requirement already satisfied: annotated-types>=0.6.0 in /Users/eolanrew/miniconda3/envs/code-demo-env/envs/exercise/lib/python3.10/site-packages (from pydantic<2.12,>=2.0->gradio) (0.7.0)\n",
      "Requirement already satisfied: pydantic-core==2.33.2 in /Users/eolanrew/miniconda3/envs/code-demo-env/envs/exercise/lib/python3.10/site-packages (from pydantic<2.12,>=2.0->gradio) (2.33.2)\n",
      "Requirement already satisfied: typing-inspection>=0.4.0 in /Users/eolanrew/miniconda3/envs/code-demo-env/envs/exercise/lib/python3.10/site-packages (from pydantic<2.12,>=2.0->gradio) (0.4.1)\n",
      "Requirement already satisfied: click>=8.0.0 in /Users/eolanrew/miniconda3/envs/code-demo-env/envs/exercise/lib/python3.10/site-packages (from typer<1.0,>=0.12->gradio) (8.2.1)\n",
      "Requirement already satisfied: shellingham>=1.3.0 in /Users/eolanrew/miniconda3/envs/code-demo-env/envs/exercise/lib/python3.10/site-packages (from typer<1.0,>=0.12->gradio) (1.5.4)\n",
      "Requirement already satisfied: rich>=10.11.0 in /Users/eolanrew/miniconda3/envs/code-demo-env/envs/exercise/lib/python3.10/site-packages (from typer<1.0,>=0.12->gradio) (13.9.4)\n",
      "Requirement already satisfied: certifi in /Users/eolanrew/miniconda3/envs/code-demo-env/envs/exercise/lib/python3.10/site-packages (from httpx>=0.24.1->gradio) (2025.6.15)\n",
      "Requirement already satisfied: httpcore==1.* in /Users/eolanrew/miniconda3/envs/code-demo-env/envs/exercise/lib/python3.10/site-packages (from httpx>=0.24.1->gradio) (1.0.9)\n",
      "Requirement already satisfied: h11>=0.16 in /Users/eolanrew/miniconda3/envs/code-demo-env/envs/exercise/lib/python3.10/site-packages (from httpcore==1.*->httpx>=0.24.1->gradio) (0.16.0)\n",
      "Requirement already satisfied: filelock in /Users/eolanrew/miniconda3/envs/code-demo-env/envs/exercise/lib/python3.10/site-packages (from huggingface-hub>=0.28.1->gradio) (3.18.0)\n",
      "Requirement already satisfied: requests in /Users/eolanrew/miniconda3/envs/code-demo-env/envs/exercise/lib/python3.10/site-packages (from huggingface-hub>=0.28.1->gradio) (2.32.4)\n",
      "Requirement already satisfied: tqdm>=4.42.1 in /Users/eolanrew/miniconda3/envs/code-demo-env/envs/exercise/lib/python3.10/site-packages (from huggingface-hub>=0.28.1->gradio) (4.67.1)\n",
      "Requirement already satisfied: hf-xet<2.0.0,>=1.1.2 in /Users/eolanrew/miniconda3/envs/code-demo-env/envs/exercise/lib/python3.10/site-packages (from huggingface-hub>=0.28.1->gradio) (1.1.5)\n",
      "Requirement already satisfied: six>=1.5 in /Users/eolanrew/miniconda3/envs/code-demo-env/envs/exercise/lib/python3.10/site-packages (from python-dateutil>=2.8.2->pandas<3.0,>=1.0->gradio) (1.17.0)\n",
      "Requirement already satisfied: markdown-it-py>=2.2.0 in /Users/eolanrew/miniconda3/envs/code-demo-env/envs/exercise/lib/python3.10/site-packages (from rich>=10.11.0->typer<1.0,>=0.12->gradio) (3.0.0)\n",
      "Requirement already satisfied: pygments<3.0.0,>=2.13.0 in /Users/eolanrew/miniconda3/envs/code-demo-env/envs/exercise/lib/python3.10/site-packages (from rich>=10.11.0->typer<1.0,>=0.12->gradio) (2.19.2)\n",
      "Requirement already satisfied: mdurl~=0.1 in /Users/eolanrew/miniconda3/envs/code-demo-env/envs/exercise/lib/python3.10/site-packages (from markdown-it-py>=2.2.0->rich>=10.11.0->typer<1.0,>=0.12->gradio) (0.1.2)\n",
      "Requirement already satisfied: charset_normalizer<4,>=2 in /Users/eolanrew/miniconda3/envs/code-demo-env/envs/exercise/lib/python3.10/site-packages (from requests->huggingface-hub>=0.28.1->gradio) (3.4.2)\n",
      "Requirement already satisfied: urllib3<3,>=1.21.1 in /Users/eolanrew/miniconda3/envs/code-demo-env/envs/exercise/lib/python3.10/site-packages (from requests->huggingface-hub>=0.28.1->gradio) (2.5.0)\n"
     ]
    },
    {
     "name": "stderr",
     "output_type": "stream",
     "text": [
      "/Users/eolanrew/miniconda3/envs/code-demo-env/envs/exercise/lib/python3.10/site-packages/tqdm/auto.py:21: TqdmWarning: IProgress not found. Please update jupyter and ipywidgets. See https://ipywidgets.readthedocs.io/en/stable/user_install.html\n",
      "  from .autonotebook import tqdm as notebook_tqdm\n"
     ]
    }
   ],
   "source": [
    "# ===== 6) Build the Gradio Interface =====\n",
    "!pip install gradio\n",
    "import gradio as gr\n",
    "with gr.Blocks() as demo:\n",
    "    gr.Markdown(\"# ✈️🌍 AI Travel Agent (Gradio Edition)\")\n",
    "    gr.Markdown(\"Enter a travel query below (e.g. “Flights from New York to London June 10–15, and 4-star hotels”).\")\n",
    "\n",
    "    # Textbox to accept the user’s travel query\n",
    "    query_input = gr.Textbox(lines=3, placeholder=\"Type your travel query here…\", label=\"Travel Query\")\n",
    "    query_button = gr.Button(\"Get Travel Information\")\n",
    "    travel_output = gr.Markdown(\"\", label=\"Travel Info (Agent’s Response)\")\n",
    "\n",
    "    # When clicked, run process_query_gradio and show result in travel_output\n",
    "    query_button.click(fn=process_query_gradio, inputs=query_input, outputs=travel_output)\n",
    "\n",
    "    gr.Markdown(\"---\\n## Send the Above Info via Email\")\n",
    "    gr.Markdown(\"Enter sender, receiver, and subject. The email body will be exactly what the agent printed above.\")\n",
    "    sender_input   = gr.Textbox(label=\"Sender Email\")\n",
    "    receiver_input = gr.Textbox(label=\"Receiver Email\")\n",
    "    subject_input  = gr.Textbox(label=\"Subject\", value=\"Travel Information\")\n",
    "    email_button   = gr.Button(\"Send Email\")\n",
    "    email_status   = gr.Textbox(label=\"Email Status / Error\")\n",
    "\n",
    "    # When clicked, run process_email_gradio using travel_output plus the three email fields\n",
    "    email_button.click(\n",
    "        fn=process_email_gradio,\n",
    "        inputs=[travel_output, sender_input, receiver_input, subject_input],\n",
    "        outputs=email_status\n",
    "    )"
   ]
  },
  {
   "cell_type": "code",
   "execution_count": 20,
   "id": "y5_UXS9DiVhv",
   "metadata": {
    "colab": {
     "base_uri": "https://localhost:8080/",
     "height": 610
    },
    "id": "y5_UXS9DiVhv",
    "outputId": "992af497-d7cf-4f04-e9b8-64ab4a2adacf"
   },
   "outputs": [
    {
     "name": "stdout",
     "output_type": "stream",
     "text": [
      "Rerunning server... use `close()` to stop if you need to change `launch()` parameters.\n",
      "----\n",
      "* Running on public URL: https://78c7bb75eb6148ec15.gradio.live\n",
      "\n",
      "This share link expires in 1 week. For free permanent hosting and GPU upgrades, run `gradio deploy` from the terminal in the working directory to deploy to Hugging Face Spaces (https://huggingface.co/spaces)\n"
     ]
    },
    {
     "data": {
      "text/html": [
       "<div><iframe src=\"https://78c7bb75eb6148ec15.gradio.live\" width=\"100%\" height=\"500\" allow=\"autoplay; camera; microphone; clipboard-read; clipboard-write;\" frameborder=\"0\" allowfullscreen></iframe></div>"
      ],
      "text/plain": [
       "<IPython.core.display.HTML object>"
      ]
     },
     "metadata": {},
     "output_type": "display_data"
    }
   ],
   "source": [
    "# Launch Gradio app\n",
    "if __name__ == \"__main__\":\n",
    "    demo.launch(server_name=\"0.0.0.0\", share=True)"
   ]
  },
  {
   "cell_type": "code",
   "execution_count": 21,
   "id": "ujS-5yQbq6DB",
   "metadata": {
    "colab": {
     "base_uri": "https://localhost:8080/"
    },
    "id": "ujS-5yQbq6DB",
    "outputId": "7dde1ffe-9158-47ec-dcfe-507f9dd77255"
   },
   "outputs": [
    {
     "name": "stdout",
     "output_type": "stream",
     "text": [
      "SendGrid error: HTTP Error 403: Forbidden\n"
     ]
    }
   ],
   "source": [
    "from sendgrid import SendGridAPIClient\n",
    "from sendgrid.helpers.mail import Mail\n",
    "\n",
    "message = Mail(\n",
    "    from_email=\"\",\n",
    "    to_emails=\"\",\n",
    "    subject=\"SendGrid Permission Test\",\n",
    "    html_content=\"<strong>If you see this, permission is fixed!</strong>\"\n",
    ")\n",
    "\n",
    "try:\n",
    "    sg = SendGridAPIClient(os.environ[\"SENDGRID_API_KEY\"])\n",
    "    resp = sg.send(message)\n",
    "    print(\"Response status:\", resp.status_code)  # Expect 202, not 403\n",
    "except Exception as e:\n",
    "    print(\"SendGrid error:\", e)\n"
   ]
  },
  {
   "cell_type": "code",
   "execution_count": null,
   "id": "0c0b8df2",
   "metadata": {},
   "outputs": [],
   "source": []
  },
  {
   "cell_type": "code",
   "execution_count": null,
   "id": "a41f72e6",
   "metadata": {},
   "outputs": [],
   "source": []
  }
 ],
 "metadata": {
  "colab": {
   "provenance": []
  },
  "kernelspec": {
   "display_name": "Python 3 (ipykernel)",
   "language": "python",
   "name": "python3"
  },
  "language_info": {
   "codemirror_mode": {
    "name": "ipython",
    "version": 3
   },
   "file_extension": ".py",
   "mimetype": "text/x-python",
   "name": "python",
   "nbconvert_exporter": "python",
   "pygments_lexer": "ipython3",
   "version": "3.11.13"
  }
 },
 "nbformat": 4,
 "nbformat_minor": 5
}
