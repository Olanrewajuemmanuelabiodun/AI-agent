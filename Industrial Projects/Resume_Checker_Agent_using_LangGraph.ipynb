{
 "cells": [
  {
   "cell_type": "code",
   "execution_count": 1,
   "metadata": {
    "colab": {
     "base_uri": "https://localhost:8080/"
    },
    "id": "WdWI_KwdXiCz",
    "outputId": "cdf436b4-429f-4607-d3d8-76f3db9223e3"
   },
   "outputs": [],
   "source": [
    "# ============================================\n",
    "# Google Colab Notebook: AI Resume Optimizer Agent\n",
    "# Using LangGraph, LangChain, and Pydantic\n",
    "# ============================================\n",
    "\n",
    "# ------------------------------\n",
    "# Cell 1: Install Dependencies\n",
    "# ------------------------------\n",
    "!pip install --quiet langchain-openai langgraph python-dotenv pydantic\n",
    "\n",
    "# ------------------------------\n",
    "# Cell 2: Set OpenAI API Key\n",
    "# ------------------------------\n",
    "import os\n",
    "\n",
    "# Replace \"YOUR_OPENAI_API_KEY\" with your actual key, or set it via Colab Secrets.\n",
    "os.environ[\"OPENAI_API_KEY\"] = \"\"\n"
   ]
  },
  {
   "cell_type": "code",
   "execution_count": 2,
   "metadata": {
    "id": "9Nf5EKA0Xrc8"
   },
   "outputs": [],
   "source": [
    "# ------------------------------\n",
    "# Cell 3: Imports\n",
    "# ------------------------------\n",
    "from typing import List, Optional, Literal, Annotated\n",
    "from typing_extensions import TypedDict\n",
    "from pydantic import BaseModel, Field, validator\n",
    "from dotenv import load_dotenv\n",
    "\n",
    "from langchain_core.messages import HumanMessage\n",
    "from langchain_openai import ChatOpenAI\n",
    "\n",
    "from langchain_core.tools import tool\n",
    "from langgraph.prebuilt import ToolNode\n",
    "from langgraph.graph import StateGraph, MessagesState, START, END\n",
    "from langgraph.checkpoint.memory import MemorySaver\n"
   ]
  },
  {
   "cell_type": "code",
   "execution_count": 3,
   "metadata": {
    "colab": {
     "base_uri": "https://localhost:8080/"
    },
    "id": "Pae-4pBIXuKz",
    "outputId": "48c8d2b1-15b7-4854-c73f-2831fa0305c3"
   },
   "outputs": [
    {
     "name": "stderr",
     "output_type": "stream",
     "text": [
      "/var/folders/8x/dpn3b6yn343g19p96qcctpgj3nptmd/T/ipykernel_49909/148453967.py:17: PydanticDeprecatedSince20: Pydantic V1 style `@validator` validators are deprecated. You should migrate to Pydantic V2 style `@field_validator` validators, see the migration guide for more details. Deprecated in Pydantic V2.0 to be removed in V3.0. See Pydantic V2 Migration Guide at https://errors.pydantic.dev/2.11/migration/\n",
      "  @validator('year', pre=True, always=True)\n"
     ]
    }
   ],
   "source": [
    "\n",
    "\n",
    "# ------------------------------\n",
    "# Cell 4: Define Pydantic Models\n",
    "# ------------------------------\n",
    "\n",
    "class WorkExperience(BaseModel):\n",
    "    job_title: str = Field(description=\"Job title or position.\")\n",
    "    company: str = Field(description=\"The company name.\")\n",
    "    experience: int = Field(description=\"Years of experience in the job.\")\n",
    "    responsibilities: List[str] = Field(description=\"List of responsibilities in the job.\")\n",
    "\n",
    "class Education(BaseModel):\n",
    "    degree: str = Field(description=\"Degree obtained.\")\n",
    "    school: str = Field(description=\"The university name.\")\n",
    "    major: str = Field(description=\"Major subject.\")\n",
    "    year: Optional[int] = Field(description=\"Year of graduation.\")\n",
    "\n",
    "    @validator('year', pre=True, always=True)\n",
    "    def set_year(cls, v):\n",
    "        return v if v is not None else 0\n",
    "\n",
    "class Resume(BaseModel):\n",
    "    \"\"\"Structured resume data.\"\"\"\n",
    "    name: str = Field(description=\"Name of the person\")\n",
    "    professional_summary: str = Field(description=\"Professional summary of the person.\")\n",
    "    work_experience: List[WorkExperience] = Field(description=\"List of work experiences held by the person.\")\n",
    "    education: List[Education] = Field(description=\"List of educational qualifications of the person.\")\n",
    "    skills: List[str] = Field(description=\"List of skills relevant to the jobs.\")\n",
    "\n",
    "    @classmethod\n",
    "    def mock(cls):\n",
    "        return cls(\n",
    "            name='Jeff',\n",
    "            professional_summary=(\n",
    "                'Innovative software engineer with 8+ years of experience in the tech industry. '\n",
    "                'Senior Developer at Company X, Freelance Software Architect, and Junior Developer at Company Y. '\n",
    "                'Proficient in developing scalable applications, optimizing system performance, and leading cross-functional teams. '\n",
    "                'Fluent in English and Spanish.'\n",
    "            ),\n",
    "            work_experience=[\n",
    "                WorkExperience(\n",
    "                    job_title='Senior Developer',\n",
    "                    company='Company X',\n",
    "                    experience=5,\n",
    "                    responsibilities=[\n",
    "                        'Led the development of scalable web applications',\n",
    "                        'Optimized system performance and reduced server costs',\n",
    "                        'Mentored junior developers and conducted code reviews',\n",
    "                        'Collaborated with product managers to define project requirements',\n",
    "                        'Implemented CI/CD pipelines to streamline deployments',\n",
    "                        'Developed RESTful APIs for mobile and web applications',\n",
    "                        'Ensured application security and compliance with industry standards'\n",
    "                    ]\n",
    "                ),\n",
    "                WorkExperience(\n",
    "                    job_title='Freelance Software Architect',\n",
    "                    company='Independent Consultant',\n",
    "                    experience=2,\n",
    "                    responsibilities=[\n",
    "                        'Designed software architecture for various clients',\n",
    "                        'Provided technical consultancy and project management',\n",
    "                        'Developed custom software solutions to meet client needs',\n",
    "                        'Conducted system analysis and performance tuning',\n",
    "                        'Integrated third-party services and APIs',\n",
    "                        'Created technical documentation and user manuals'\n",
    "                    ]\n",
    "                ),\n",
    "                WorkExperience(\n",
    "                    job_title='Junior Developer',\n",
    "                    company='Company Y',\n",
    "                    experience=1,\n",
    "                    responsibilities=[\n",
    "                        'Assisted in the development of web applications',\n",
    "                        'Performed bug fixes and code maintenance',\n",
    "                        'Collaborated with senior developers on project tasks',\n",
    "                        'Participated in daily stand-ups and sprint planning',\n",
    "                        'Wrote unit tests to ensure code quality',\n",
    "                        'Contributed to open-source projects'\n",
    "                    ]\n",
    "                )\n",
    "            ],\n",
    "            education=[\n",
    "                Education(\n",
    "                    degree='B.Sc. Computer Science',\n",
    "                    school='X University',\n",
    "                    major='Computer Science',\n",
    "                    year=1999\n",
    "                )\n",
    "            ],\n",
    "            skills=[\n",
    "                'Software Architecture',\n",
    "                'System Optimization',\n",
    "                'Team Mentorship',\n",
    "                'Project Management',\n",
    "                'API Development',\n",
    "                'Continuous Integration/Continuous Deployment',\n",
    "                'Bilingual'\n",
    "            ]\n",
    "        )\n",
    "\n",
    "class Job(BaseModel):\n",
    "    title: str = Field(description=\"Job title or position.\")\n",
    "    company: str = Field(description=\"The company name.\")\n",
    "    location: Optional[str] = Field(description=\"Location of the job.\")\n",
    "    salary: Optional[str] = Field(description=\"Salary range for the job.\")\n",
    "    description: str = Field(description=\"Detailed job description.\")\n",
    "    responsibilities: List[str] = Field(description=\"List of job responsibilities.\")\n",
    "    benefits: Optional[List[str]] = Field(description=\"List of job benefits.\")\n",
    "    employment_type: Optional[str] = Field(description=\"Type of employment (e.g., full-time, part-time).\")\n",
    "    posted_date: Optional[str] = Field(description=\"Date when the job was posted.\")\n",
    "\n",
    "    @classmethod\n",
    "    def mock(cls):\n",
    "        return cls(\n",
    "            title='Software Engineer',\n",
    "            company='Tech Corp',\n",
    "            location='San Francisco, CA',\n",
    "            salary='$100,000 - $120,000',\n",
    "            description='We are looking for a skilled Software Engineer to join our team.',\n",
    "            responsibilities=[\n",
    "                \"Develop and maintain web applications\",\n",
    "                \"Collaborate with cross-functional teams\",\n",
    "                \"Write clean, scalable, and efficient code\",\n",
    "                \"Participate in code reviews\",\n",
    "                \"Troubleshoot and debug applications\"\n",
    "            ],\n",
    "            benefits=[\n",
    "                \"Health insurance\",\n",
    "                \"401(k) matching\",\n",
    "                \"Paid time off\",\n",
    "                \"Flexible working hours\"\n",
    "            ],\n",
    "            employment_type='Full-time',\n",
    "            posted_date='2024-10-01'\n",
    "        )\n"
   ]
  },
  {
   "cell_type": "code",
   "execution_count": 5,
   "metadata": {
    "id": "YzAUiQnPXzON"
   },
   "outputs": [],
   "source": [
    "\n",
    "# ------------------------------\n",
    "# Cell 5: Tool Definitions\n",
    "# ------------------------------\n",
    "\n",
    "def process_job() -> Job:\n",
    "    \"\"\"Return a mock Job object (in production, fetch from DB or API).\"\"\"\n",
    "    return Job.mock()\n",
    "\n",
    "def process_resume() -> Resume:\n",
    "    \"\"\"Return a mock Resume object (in production, fetch from DB or API).\"\"\"\n",
    "    return Resume.mock()\n",
    "\n",
    "@tool\n",
    "def get_job(field: Optional[Literal[\n",
    "    'title', 'company', 'location', 'salary', 'description',\n",
    "    'responsibilities', 'benefits', 'employment_type', 'posted_date'\n",
    "]] = None) -> str:\n",
    "    \"\"\"\n",
    "    Get job data.\n",
    "    If `field` is provided, return that attribute; else return full dict.\n",
    "    \"\"\"\n",
    "    job = process_job()\n",
    "    if field:\n",
    "        return getattr(job, field)\n",
    "    return job.dict()\n",
    "\n",
    "@tool\n",
    "def get_resume(field: Optional[Literal[\n",
    "    'name', 'professional_summary', 'work_experience', 'education', 'skills'\n",
    "]] = None) -> str:\n",
    "    \"\"\"\n",
    "    Get resume data.\n",
    "    If `field` is provided, return that attribute; else return full dict.\n",
    "    \"\"\"\n",
    "    resume = process_resume()\n",
    "    if field:\n",
    "        return getattr(resume, field)\n",
    "    return resume.dict()\n"
   ]
  },
  {
   "cell_type": "code",
   "execution_count": 6,
   "metadata": {
    "id": "7_Y1K9MRX1Lu"
   },
   "outputs": [],
   "source": [
    "\n",
    "# ------------------------------\n",
    "# Cell 6: Build the LangGraph Agent\n",
    "# ------------------------------\n",
    "\n",
    "# 1. Initialize the OpenAI LLM (GPT-4o).\n",
    "llm = ChatOpenAI(\n",
    "    model_name=\"gpt-4o\",\n",
    "    api_key=os.getenv(\"OPENAI_API_KEY\")\n",
    ").bind_tools([get_job, get_resume])\n",
    "\n",
    "# 2. Define the “expert” node function.\n",
    "def expert(state: MessagesState):\n",
    "    \"\"\"\n",
    "    The 'expert' node:\n",
    "    - Prepend a system prompt\n",
    "    - Forward user messages (and any prior conversation) into the LLM.\n",
    "    \"\"\"\n",
    "    system_message = \"\"\"\n",
    "You are a resume expert. You are tasked with improving the user's resume based on a job description.\n",
    "You can access both the resume and the job data using the provided tools: get_resume and get_job.\n",
    "\n",
    "IMPORTANT:\n",
    "- You must NEVER invent skills, experiences, or education that the user does not already have.\n",
    "- If asked for any detail not in the resume, either fetch via tool or state that the information is unavailable.\n",
    "\"\"\"\n",
    "    messages = state[\"messages\"]\n",
    "    # Invoke the LLM with the system prompt plus the conversation history\n",
    "    response = llm.invoke([system_message] + messages)\n",
    "    return {\"messages\": [response]}\n"
   ]
  },
  {
   "cell_type": "code",
   "execution_count": 7,
   "metadata": {
    "id": "PoDEoDQxX8d3"
   },
   "outputs": [],
   "source": [
    "\n",
    "# 3. Build the LangGraph structure.\n",
    "tool_node = ToolNode([get_job, get_resume])\n",
    "graph = StateGraph(MessagesState)\n",
    "\n",
    "# Add nodes: first, the expert; second, the tool router.\n",
    "graph.add_node(\"expert\", expert)\n",
    "graph.add_node(\"tools\", tool_node)\n",
    "\n",
    "# Edge from START to expert\n",
    "graph.add_edge(START, \"expert\")\n",
    "\n",
    "# If the LLM’s response contains a tool call, route to the tools node; else end.\n",
    "def should_continue(state: MessagesState) -> Literal[\"tools\", END]:\n",
    "    last_msg = state[\"messages\"][-1]\n",
    "    if last_msg.tool_calls:\n",
    "        return \"tools\"\n",
    "    return END\n",
    "\n",
    "graph.add_conditional_edges(\"expert\", should_continue)\n",
    "graph.add_edge(\"tools\", \"expert\")\n",
    "\n",
    "# 4. MemorySaver for conversation history\n",
    "checkpointer = MemorySaver()\n",
    "\n",
    "# 5. Compile the graph into a runnable app\n",
    "app = graph.compile(checkpointer=checkpointer)"
   ]
  },
  {
   "cell_type": "code",
   "execution_count": 8,
   "metadata": {
    "colab": {
     "base_uri": "https://localhost:8080/",
     "height": 266
    },
    "id": "kMKs8fz5YBKo",
    "outputId": "d167e815-59e1-4142-8880-456b661ab337"
   },
   "outputs": [
    {
     "data": {
      "image/png": "iVBORw0KGgoAAAANSUhEUgAAANgAAAD5CAIAAADKsmwpAAAAAXNSR0IArs4c6QAAIABJREFUeJztnWlcE9fex89k30iAhLAjiwKCCwhqS11BRVRUrLtttT6tVmtbbrU+9Vqr3bx6a2urdcPaq1J3cV9qUSsolioiKqACIsi+k4Tsyzwv4kO5GBA0kzlJzvfDi2Rmcs5vkh9n/mfHcBwHCATZUMgWgEAAZEQELCAjIqAAGREBBciICChARkRAAY1sAdChUenrKzQKmV4h0+l1uFZjBc1bTDaFxsA4DjSOA8XVh022nBcBQ+2IRhQtusJbLcW58sZqtaOYwXGgchxofGeaVm0F3w+dRWmq1ihkOhoDK72v8O/D8+/HDejHI1tXN0BGBDiOXz/dUF2idPFm+ffhevXikK3opdCoDMW5LWUPlRVFyqh4YeAAB7IVdQl7N+L9v6SXDtZGxQsHRDuRrcXMyJq01083KGS6MW+6cfmwx2B2bcT0Y3VUOngt3oVsIQTSWKM+saVy1GxXn2CoS3r7NeIfR2qdXRn9hzmSLcQSnNxe8co4oasPi2whHWKnRjydVOkdxAkbbhcuNHJyW0XwQH5QJKQhoz22I14/Xe8RwLYrFwIAJi3yzL7cVF+pJluIaezOiIW3ZQCAiBhbq5p0hVnLfdKP1eEGGJ+BdmfEtJS68JH26EIj/n15107Wk63CBPZlxNtXmoIj+WwelWwhpBE23LHwdotcqiNbSHvsy4glefJX453JVkEyw6aIctKayVbRHjsyYkm+nEanUKl2dMsm8Qnm5mZIyFbRHjv6VR7fk/v15Vo4008//fTkyZMv8MHRo0dXVFQQoAgwWBQXL2ZFkZKIxF8YOzJiY60mwOJGzM/Pf4FPVVVVNTU1ESDnKYHhvPIiBXHpvwD2YkSNylBfoWbziOpyzcjIWLhw4ZAhQyZPnrx69er6+noAQGRkZGVl5VdffTVixAgAQEtLy/bt2+fOnWu8bOPGjSqVyvjxmJiYAwcOvPvuu5GRkWlpafHx8QCASZMmLV26lAi1XAG9rhyyBkXcPmisUSd/U0JQ4vfv34+IiNi5c2dVVVVGRsbMmTPff/99HMdVKlVERMSJEyeMl+3cuXPw4MGpqak3b968fPlyXFzcjz/+aDwVGxs7bdq0b7/9NjMzU6vVXr16NSIiory8nCDBNaXKg989ISjxFwP2QRnmQi7RcQVE3WxOTg6LxZo/fz6FQnFzcwsJCSkqKnr2sjfeeCMmJsbPz8/49s6dO9evX//www8BABiGCQSCZcuWEaSwHVwBTS6BqwXHXoxoMAAGm6g4JCwsTKVSJSYmDh48eNiwYd7e3pGRkc9eRqfT//zzz9WrVxcUFOh0OgCAs/PfbUkhISEEyXsWCg1jsOCKyuBSQxxcPlVSpyUo8eDg4E2bNrm4uGzevDkhIWHx4sV37tx59rLNmzcnJSUlJCScOHEiKyvr7bffbnuWwWAQJO9Z5M06Kg2zWHZdwV6MyOHTFER2J0RFRa1ater06dNr1qyRSCSJiYnGMq8VHMdTUlJmzJiRkJDg5uYGAJDJZMTp6Ry5VAfbUFl7MSKbSxV5MnVaAxGJ37p16/r16wAAFxeXCRMmLF26VCaTVVVVtb1Gq9UqlUqxWGx8q9Fo0tPTiRDTFdQKg9ibSVbuJrEXIwIA2Dxq8T05ESnfuXNn+fLlx44da2pqys3NPXjwoIuLi7u7O5PJFIvFmZmZWVlZFArF19f31KlT5eXlzc3NX375ZVhYmFQqlctNSPL19QUApKam5ubmEiG4IFvm2gOuQbJ2ZES/PtzHuYQY8Y033khISNiwYcPo0aMXLFjA5XKTkpJoNBoAYP78+Tdv3ly6dKlSqVy7di2LxZo6derkyZMHDRq0ZMkSFos1atSoysrKdgl6eXnFx8dv37598+bNRAguyVf4hVq6bb9z7GiEtkZtOLurKmGxJ9lCSObJQ0XxvZYRU8VkC/kv7KhEZDApYi9m9mUCu86sguun6kNfFZCtoj1wVZ2IJmqCcMuyRx3NHDUYDNHR0SZPaTQaOp2OYSaaPPz9/X/55RdzK31KTk5OYmJidyUFBgYmJSWZ/FRBtszJleHiCVdNxb4ezUbupDcbDHj4CNNe7KhJRa1WM5mmfzwMw3g8AtdUeAFJFAqFyzUdAp7dVTk0wYXvTDerRjNgd0YEAJz7pSoo0sG6VuQwCzDfuB3FiK2Mm+/+55mG2jIV2UIsSlpKndCdAacL7bREfNrP8WP5K+OF1r7STRdJS6kT+zB7D+STLaRD7LFENAZ2UxO9b/7elJcJ3aB584Lj+MltFXxnGswutN8SsZU/z9Y/zlNETRD6hsDVwGsWslIb8zKlI6eLfYJgL/jt3YgAgIZK9fUzDUw2xbMX2y+Uy3Gw+iatunJ16X35rUtN/YY6Do5zplDgGmhjEmTEp1Q8Uj68KXucJ3dypTu7MrgCGpdP4wqoej3ZyroAhuGyRp1cqscNeEF2C4tL6dmf12+oI2yDDjsBGbE91SXKugqNXKKTS3UUCqaQmdOJSqWyuLg4NDTUjGkCAHhONIADLp/q4ETzCGA7OEHXTPhckBEtyqNHj1asWHH48GGyhUCH1RTdCNsGGREBBciICChARkRAATIiAgqQERFQgIyIgAJkRAQUICMioAAZEQEFyIgIKEBGREABMiICCpAREVCAjIiAAmREBBQgIyKgABkRAQXIiAgoQEZEQAEyIgIKkBERUICMiIACZESLgmFY6w4XiLYgI1oUHMdra2vJVgEjyIgIKEBGREABMiICCpAREVCAjIiAAmREBBQgIyKgABkRAQXIiAgoQEZEQAEyIgIKkBERUICMiIACZEQEFCAjIqAAbfhjCWbOnKlQKAAAGo2moaHB3d3duAX9hQsXyJYGC6hEtASTJk2qrq6urKysr6/HcbyysrKystLBwYFsXRCBjGgJZs6c6ePj0/YIhmFDhgwhTxF0ICNaAgzDpkyZQqVSW4/06NFjxowZpIqCC2RECzF9+nRvb2/jawzDhg8fbowUEUaQES0EjUabOXMmk8kEAHh5eU2dOpVsRXCBjGg5pkyZ4uXlBQCIiopCxWE7aGQLgAidxtBYo5FL9MQ1aMXHvJNqSB0xaEZxrpygLCgU4CRmCERWtnc4akd8yl/nGwput9DoFIELXae24u+E50grK5ALRPSIGCfvQA7ZcroKMiIAAKSl1AGMMiBGSLYQs6FVG37fWzF8iou7P4tsLV0CxYgg41Q9hWpTLgQA0JmU8e96XzpU01ClJltLl7B3I8qatTWlqrCRNuXCVl6NF2elNpGtokvYuxGbqrUYBSNbBVEIRIwnDxRkq+gS9m5EWZPWydU6oqgXgMmm8pzpKoWebCHPx96NiONAo7KC3+mFkTVqMcwKinx7NyICEpAREVCAjIiAAmREBBQgIyKgABkRAQXIiAgoQEZEQAEyIgIKkBERUICMiIACZEQEFCAjWg3HTxz+1/rVZKsgCmREq+Hhw3yyJRAIMmK30el0O5I2vf0/08fHD/vfFR9mZl4zHk9NPRczelBRUYHxbf793JExkelXLwMAJkwcvv/A7tVrlo+MiZwwcfiKlYmyFlnnqRUXF42MiczMvDZ1+th3FsxK/HjBhd/P/P772ZExkTqdjqRbJxBkxG6zafO/j6bsT5g8Y/++08OHxaz+Ynla+iUAwOjR4yIGDPru+6+Nu5B+9/3Xo2LGDhsaDQCgUmlHju6bMGHK5Ys3/73upydPSjb/9G3nqdHpdADA3l9/njH9zaUff/bD90m9e/cZM2b8H5eyaDQbnASMjNg9NBrNhd/PzJ41b2L86wK+YFzcpJjosXuTdxrPLv34s8clj86dP3ni5JHGxoaPPvy09YM9AwIHRr6CYVhISN9JE6deuZKq1WrVanVHqRlHsw6MfGXa1Dm9g0PJu2MLYYP/W4TyqLhQo9EMjHy19UhY/4jzv52SSCUCvsDV1W3+24uSdm7W63QrV37D4/FaL+vZM6j1taeHt1arrawsl0olHaVmfBvYq7el7oxkkBG7R0uLDADwwUf/0+54U2ODgC8AAExJmLl7zw4aldavb3jbC5jMv2fGsNhsAIBc3tJJasbnL4PJJPJuIAIZsXsInUUAgKUfr/T09G57XCx2M744eGivu7unVqtN2rkp8aO/H81yeUvra5VSCQBgsdg0Or2j1Bob64m/G4hARuwe7u6exhW9wsMijUeamhpxHOdwOACAkpLiPXuTNv24S6fVfpj4zpjR40NC+hovu3PnVmsihUUPaTSap6e3Xq/vKLXGRjJujzxQZaV7sNnseXMX7k3eee9ejkajSUu/tGz54h9+XAcAMBgMX69dOSomrndwaN++YTHRsWvXfd7a1FJXX3vk6D69Xv/kScmZs8dGjhzDZDI5HE5HqT2Lp6f3/fu52bdvGgwGy960JUAlYreZOeOtgIDA/Qd3Z2ff4HJ5oSH9li79DACwb/9/aqqrvv9uh/GyJe8vm/PmpORff3573nsAgAnjE/Ly7m7dthEAMCB84AdLPuk8tWeJHz+loOD+J8vfP3/2GoPBsOAdWwJ7X4Qp97qkslj9aryY0FwmJcS8PmXWW2++Q2guJjmwvnjuKl8mG/ZHH+z6EHYCMiICClCMaAlOHr9EtgTYQSUiAgqQERFQgIyIgAJkRAQUICMioAAZEQEFyIgIKEBGREABMiICCpAREVBg70ZksCgsDrULF1orQncmxRruz96N6CRmlBcRtVEo6UjqNUqZjs6wgl/ZCiQSiosXk8miqJW2udVKTamyZzivCxeSj70bEQAwZLLo4r5KslWYn4pCeUGW5JU469hm0N5HaBspLWw4/3PzoLEivpDBFdAAsIKtmjoCw0BjtVrWqCm+K5uxzJtiJTsNIiOCpKSkHj16jBwxOutCY+VjlVZt0CiJmp1kwHGtVsskbMaJXKGgcVUYADwXZd+hguDgYGtZn8Q6VBKEXq8vKirCcTw2NhYAEDVRRHSOjx49WrHis8OHDxOU/ooVKy6cuIBhmJOTE+8Cj8lkenh4BAYGLlq0iKAczYX9loh79+4dP348l8tlsSy3O6lMJrt169aIESMISv/BgweJiYn19f81Od9gMLi7u589e5agTM2CnVZWUlJSmpqahEKhJV0IAHBwcCDOhQCA4ODg3r3bL5fD5XIhd6E9GvHy5csAgNdee+2jjz6yfO51dXVbt24lNIvZs2c7OTm1vqVQKFevXiU0R7NgX0Zct25dcXExAMDNzY0UAVKp9MqVK4RmMXDgwICAAGPEZTAY/P39T548SWiOZoG6Zs0asjVYgqKiImdnZy6XO378eBJl0Ol0Ly8vX19fQnPhcDg3btxQq9VeXl4pKSmHDx/OyMgYOnQooZm+JHZRWVmxYkVMTMyoUaPIFmI55syZU1NTc/HiRePblJSU48eP//rrr2Tr6hjcppHJZGVlZRcuXCBbyFNqa2u3bNlCStb5+fkRERG5ubmk5P5cbDlG/Oqrr+rr6728vMaMGUO2lqdYIEbsiN69e2dlZa1fv/7o0aOkCOgcmzViSkpK3759iY7GuotYLF68eDGJAvbu3VtYWPjFF1+QqMEkNhgjJiUlLViwQKPR2N7abebi1KlT+/btS05OhucrsrUS8fPPP3d0dAQAwPMVt8UC7YhdYeLEid98883w4cNzcnLI1vL/kB2kmo0rV67gOF5XV0e2kM4oKiqaNm0a2Sr+Zv78+fv27SNbBW47lZU5c+YYNyYRiQgfuPAykB4jtmPXrl1VVVWffWZ6jVpLYvUxYnl5uVgsLi4uDg4OJluLtXL+/PmdO3cmJydzuVyyNFhxiajT6d59912VSsVgMKzFhZDEiO2Ii4vbuHFjXFzczZs3ydJgrUbEcTwjI2PRokU9e/YkW0s3ILEdsXN69OiRnp6+a9euPXv2kCLA+oxoMBj+8Y9/4Dg+fPjwAQMGkC2ne8AWI7Zj+/btEolk+fLlls/a+mLE1atXx8TEDBs2jGwhNsulS5d++OGH5ORkY0OYhSC72t4Ndu/eTbaEl4XEvuZuUVFRER0dfe3aNYvlaDWP5rFjx/bp04dsFS8LtDFiOzw8PC5dunTo0KGff/7ZMjlawaM5Ozt7wIABKpXKwsP6iYDoOStmZ9u2bQUFBRs3biQ6I6hLRLlcHhsby+fzAQA24EILzFkxO4sWLUpISIiNja2trSU2J4sFAd1FJpMVFBRA3mXXXawlRmxHXV3d2LFjc3JyiMsC0hLx2LFj2dnZvXr1grzLrruwWKzbt2+TraLbiESi8+fPb9mypaKigqAsIJ1gX1hYqNVqyVZhfhwcHLZu3apUKjEMs7pgIzs728PDg6DEIS0R33vvvQkTJpCtghDodDqbzT506FBVVRXZWrrBgwcPgoKCjCNLiABSIwoEAhI74C3A3LlzExMTyVbRDe7fv//s1H0zAqkRd+zYcebMGbJVEMuhQ4cAAGVlZWQL6RL5+fkhISHEpQ+pESUSiVxuswu5tiUtLe3WrVtkq3g+RJeIkDZoSyQSGo1m20/nVr7++msYhqZ2TmRkZFZWFnHpQ1oi2nyM2BajCzMzM8kW0iH5+fmEFofwGtEeYsR2lJeXX7hwgWwVpiH6uQyvEe0nRmxl6tSpUqmUbBWmIbqmAq8RFy5caKvtiJ0wbdo0AMCBAwfIFtIe+y0R7SpGbIdQKIRqVRCDwVBYWBgUFERoLpAa0Q5jxFbGjBkD1UopFnguw2tEO4wR2xIZGWlctYJsIcAyz2V4jWifMWI7EhIS9u3bR7YKCxkR0tE3AoGAbAnkEx4e7urqSrYKkJ+fP2vWLKJzgbREtOcYsS3GYVcJCQlkCdDpdI8fP+7VqxfRGUFqRDuPEduxffv25OTktkcstvSoZWoqqK/ZatBoNBqNhkqlstnscePG1dTUxMbGrl27luh8Dx06VFpaaoEp9yhGtA4YDAaDwRgyZIijo2NtbS2GYXl5eY2Njc7OzoTmm5+fP3DgQEKzMALpoxnFiCYRCoXV1dXG142NjRbYyccyVWZ4jYhixGd5/fXX285dksvlqamphOao0WjKysoCAgIIzcUIpI/mhQsXWsv+rpYhISGhtLTUuKWZ8QiFQiktLS0uLvb39ycoU4vVVOAtEe25r9kkx48fT0hI8PX1NS6MZDAYAAA1NTWEPp0t9lyGt0TcsWOHp6cn6lxpy6pVqwAAd+/evXr16tWrVxsaGiRNirRLN6ZMnENQjg/znoSHh8uadC+cAo4DvnOXPAZX8010dLREImmVhGEYjuNubm7nzp0jWxpcZKU23r3WZMB0OjXOJmx+tE6no9JoLzOB1MmdWVGo6NmfO3ickO9M7+RKuErEqKioc+fOtYZBxkgoPj6eVFHQ8dueap4zPW6+D8+xs58WEnRaQ3Ot5siP5VPe93QSd7jnCFwx4qxZs9qtJeDl5WWBjk4r4vzuaic3Zv9hQqtwIQCARqeIPFnTP/Y7vqVC2tjh6h1wGTE0NLTtIogYho0dO9ai65bCTUm+nMGmhrzi1IVroWPkDPfMc40dnYXLiACAt956q3XhJS8vr+nTp5OtCCJqy9R0JnQ/WRdxcmUW5cg6OgvdXYWEhPTr18/4Oi4uzsnJKv/7CUKt0IvcmWSreEGoNMwniNtcpzF5FjojAgDmzZsnFArd3NxQcdgOuVSvs+Y10hprNB0t4/SytebKRwpJvU4u0ymkeoMe6HSGl0wQAACAcEjQIi6Xm3VeDUDNyyfHZFMwgHH4VA6fKvRgunhYa6Fiw7ygEUvvywuyW4pz5U5ubBzHqHQqhU6lUKnmapXs028EAEBmpt7mFgVm0Ov1FTq9RqVVSbQqfUA/bnCkg2sPK1uh0IbpthGrHivTjzfQOQyMxgx41YlGpxIjjEA0Sl1DvTztRBObA4ZOFjq6wLihrr3RPSNePFBXWawS+jlznay4LGGwac7eAgCAtFaesrmy9yCHqAlCskXZO12trOi0ht1flqr0TJ8BHlbtwrbwxdyAV71rqynHtxC1NDSii3TJiHodnrSi2D3ElSe0wRExjp58uoB/cIN1LJhpqzzfiAYDvm35o5AYPybXOvqUXgCekMP3dN7zdSnZQuyX5xtx37+e9IrytIgYMuE4spy9Hc/usqYF1m2J5xjxSkq9o7cjk2sX9UoHMU8LmDlpzWQLsUc6M2JDpfpxrtzBhWdBPSTj6CG4dqIeqjGadkJnRkw/0SDyI3a2IoS4BTpdPdFAtgq7o0MjVpcodXqKgwvHsnq6Ss69i8tWDW6RN5k9ZZGvY0WxWq3Umz1lK2XylFF7kwnfLLdDIxbdkWNUm60mPweMUpKnIFuEefjiy0/PnT9Jtorn06ERH92VO4ghLQ6JhuPMLcxpIVuFeXj4MJ9sCV3CdBdfU62G7UAnrrJc8uTu73/8XFaez+M69Q4aMmbkOywWFwCQkXkkNe2XRfO37T24oqa22N2157CoWQMHPJ3Ld+a3zVl3zjEZnPB+sWKRD0HaAAB8MacqD9J11bvFyJhIAMC3G77atn3j6ZNXAAAZGWl79iaVPnksEDj27Bn00Qf/6+rqZry4k1OtZP6VcejQ3gcP85ydRX369F/wzgdCoXm2jzVdIrY061RKswzoMkF9Q9mO3R9oteolC36eO3t9VU3htl8W6fU6AACVRlcqZSfObpg++Z/ffpnZr0/04RNfNzVXAwCu30i5fuPolPGffLTwP0Inj9Q/dhEkzzhFoaVJK5e++DRKSPjtXAYA4JNlq4wuzLr11+drPhkzZvzhg+dWr1pXU1P1w6Z1xis7OdVKQeGDFf/8KDx84O5fjn74wfJHjwrW/3uNuaSaNqJCqqcSNqwm+85vNCp93qz1ri6+bmL/aZNWVlQ9zL2fZjyr12tHj3ynh3dfDMMiw8bjOF5RVQAAuPbn4X6hMf36RHM4/IEDJvT0jyRInhEGiyqXWL0R2/HLf7YNGxo99fXZAoFjaGi/xYs+zsy89uBhfuenWsm9l8Nisd6YM9/V1W3woKjvvt02a9Y8c2nrwIgyHZVB1EzTkid3vb1CuNynU6KcndyFzl6PS3NaL/DxDDW+4LD5AAClSobjeH1jmavYr/UaL49gguQZobOpCusvEdtRXFwYHBza+jYoMAQA8OBBXuenWunTN0ylUq1YmXjk6L7yijKBwDE8zGzFQYduwwBRjbpKVUtZRf6yVYPbHpTK/m66e3Y0uUotNxj0TObflScGg02QPCMGPQCE7U1MCi0tLWq1msn8e+QUh8MBACgU8k5OtU0hsFfwun9tSk+/lLRz89ZtGyMGDJo3d2GfPv3NIs+0ETl8ml6rMksGz+LgIPTrERYbvaDtQS63swURWUwuhULVtpGk1hDbvKLX6Ll8uFYfeElYLBYAQKVSth6RK+QAAKGzqJNT7RIZPChq8KCot+e9d+vWXynHDvxzZeLxYxepVDNEcaYfzRwHql5LVIuuh2uvZkm1v294T/8I4x+P5yQWdbazCIZhTo7uJU/utR65/zCDIHlGNCo9h299g887gUajBQX2zsu723rE+No/oFcnp9qmkJNz668b1wEAIpFLbOyE9xcvlbXI6uvrzCLPtBH5zjQ6g6gH07CoWQaD4dT5jRqNqrau9MyFn777aXZVTVHnn+rfZ9S9/D9y7l0EAFy+ure0PJcgecaRbzxHmg2UiEwm08VFnJWVeTsnS6fTJUyecS3jSkrKAalMejsna+u27weED+zVMwgA0MmpVnLz7qz5YvnpM8eam5vy7+ceO35QJHIRiVzMItX0dy0QMXQqvUqmYTmYvymRw+EvW7L/j6vJP2yfW1tX4uMVOm3yyudWPkYNf1subzpx7rtfD6/06xE2MS5x/5HPCRqdIK2RO4ltpFdpzuz5/9m9/cbN6wf2nxkzZnxdfe2hI8k/bf3O1dUtMuKVd99ZYrysk1OtTJ/2RnNz009bNny/cS2DwYgeGbvx+ySzPJc7Ww3sz7MN5SW4i789zm+vzKsdGMPrFe5AtpD2/Lan2iOA59fXWsdDHd9cOuk9D4HIxD95h118PftzcZ2ttV90EQzT+4Xa4KQImOkwDHLxYrE5uKRGLnA1/ZM0S2o3/GR6nS42k6dUm+6rdXPxX7Jg54uqNcFn38R0dEqv11GpJm7Qxyt0wdxNHX2qrrjJL4RNY8C4BoYN01k8PmyK6OgPFR0Z0YHn/PHiZJOnNBoVg2F6ph+FYuYaQEcaAAAarZpBN7GoA43WYeBr0BvqHkumvW+J5csRbenMFgIhvfdgXkOdzMHFRLREpdKcnTxMfc6imFeDtEoyYpp5evER3eI5D6CoCSJFfYuimajGbaiQVEl5XEPIYLTXEAk8PxKa8bHXk9vVWpWNV1yaq1uUjS2jZovJFmKndCkkX7jevzCjzIbLRUl1C1DJZy7zJluI/dIlI2IYtnhDT2lFo7SmwxU/rZemsiYGppy8iPx4157pRiPFzGXeQqG+OLNcWmsjm5M1VUgfXCn1C6LFzWs/FBlhYbrXmPJavDBksEP68Yb6RwqcSue7cK1xHRKlVC2rUxjUapEHfdyaHky2TQ1usFK63arnJGZMWuheXaIqzGl5dLeGyaEZDBiVQaXSqRQaFRA2ivFlwDBMp9UbNDqdRq9RaplsSq8wXuAAF7QyIjy8YPOymy/LzZc1dLKosVojqdfKpTq5RKfXGfQ6GI3IYGEUKoXL53D4VJEngyewvlLc5nnZfg5nN4azGypXEC8L6lG1JrgCmlUveuDsxuwoeENGtCbYXEp9hZpsFS+IVmMoL5ALRKafn8iI1oRrD5ZWba2L8jRWqzsZ4omMaE14B3IwDNy+bJWLlV3eX/naxA4XzYdrv2ZEV0g/VqfV4gH9+EIPK1hVXy7VSerUfxysfnOlD7fj9gpkRKsk909J3nWpSqFXE7YyjFlw8WQ212r8+nJfixd1vp0lMqIVg+NAo4LaiLgBZ3G71HGFjIiAAlRvN+FgAAAAIElEQVRZQUABMiICCpAREVCAjIiAAmREBBQgIyKg4P8ArZ7nFy3+8H4AAAAASUVORK5CYII=",
      "text/plain": [
       "<IPython.core.display.Image object>"
      ]
     },
     "metadata": {},
     "output_type": "display_data"
    }
   ],
   "source": [
    "from IPython.display import Image, display\n",
    "display(Image(app.get_graph(xray=True).draw_mermaid_png()))"
   ]
  },
  {
   "cell_type": "code",
   "execution_count": 9,
   "metadata": {
    "id": "pTC1TzmDYRcS"
   },
   "outputs": [],
   "source": [
    "\n",
    "\n",
    "# ------------------------------\n",
    "# Cell 7: Interactive Loop / Example Usage\n",
    "# ------------------------------\n",
    "\n",
    "# Option A: Interactive console loop (works if you run in a Python REPL environment)\n",
    "# --------------------------------------------------------------------------------\n",
    "# Uncomment below to use:\n",
    "#\n",
    "# while True:\n",
    "#     user_input = input(\"You: \")\n",
    "#     if user_input.strip().lower() in [\"quit\", \"exit\"]:\n",
    "#         print(\"Agent: Exiting...\")\n",
    "#         break\n",
    "#     response = app.invoke(\n",
    "#         {\"messages\": [HumanMessage(content=user_input)]},\n",
    "#         config={\"configurable\": {\"thread_id\": 1}}\n",
    "#     )\n",
    "#     print(\"Agent:\", response[\"messages\"][-1].content)\n",
    "\n",
    "# Option B: One-shot example query (ideal for Colab cell execution)\n",
    "# -----------------------------------------------------------------\n",
    "example_query = \"Please review my resume and suggest optimizations so that it matches the Software Engineer position requirements at Tech Corp.\"\n",
    "\n"
   ]
  },
  {
   "cell_type": "code",
   "execution_count": 10,
   "metadata": {
    "colab": {
     "base_uri": "https://localhost:8080/"
    },
    "id": "GvAxrS_lZK4z",
    "outputId": "64e5c927-f1f4-46f3-a615-b2b435b8f6e0"
   },
   "outputs": [
    {
     "name": "stdout",
     "output_type": "stream",
     "text": [
      "Note: you may need to restart the kernel to use updated packages.\n"
     ]
    }
   ],
   "source": [
    "%pip install -q langfuse"
   ]
  },
  {
   "cell_type": "code",
   "execution_count": 11,
   "metadata": {
    "id": "NMC1CHVyZLy3"
   },
   "outputs": [],
   "source": [
    "import os\n",
    "\n",
    "# Get keys for your project from the project settings page: https://cloud.langfuse.com\n",
    "os.environ[\"LANGFUSE_PUBLIC_KEY\"] = \"",
    "os.environ[\"LANGFUSE_SECRET_KEY\"] = \""\n",
    "#os.environ[\"LANGFUSE_HOST\"] = \"https://cloud.langfuse.com\"  # 🇪🇺 EU region\n",
    "os.environ[\"LANGFUSE_HOST\"] = \"https://us.cloud.langfuse.com\" # 🇺🇸 US region"
   ]
  },
  {
   "cell_type": "code",
   "execution_count": null,
   "metadata": {},
   "outputs": [],
   "source": []
  },
  {
   "cell_type": "code",
   "execution_count": 12,
   "metadata": {
    "id": "G2jXLu3RZODN"
   },
   "outputs": [
    {
     "ename": "ModuleNotFoundError",
     "evalue": "No module named 'langfuse.callback'",
     "output_type": "error",
     "traceback": [
      "\u001b[0;31m---------------------------------------------------------------------------\u001b[0m",
      "\u001b[0;31mModuleNotFoundError\u001b[0m                       Traceback (most recent call last)",
      "Cell \u001b[0;32mIn[12], line 1\u001b[0m\n\u001b[0;32m----> 1\u001b[0m \u001b[39mfrom\u001b[39;00m\u001b[39m \u001b[39m\u001b[39mlangfuse\u001b[39;00m\u001b[39m.\u001b[39;00m\u001b[39mcallback\u001b[39;00m\u001b[39m \u001b[39m\u001b[39mimport\u001b[39;00m CallbackHandler\n\u001b[1;32m      3\u001b[0m \u001b[39m# Initialize Langfuse CallbackHandler for LangGraph/Langchain (tracing)\u001b[39;00m\n\u001b[1;32m      4\u001b[0m langfuse_handler \u001b[39m=\u001b[39m CallbackHandler()\n",
      "\u001b[0;31mModuleNotFoundError\u001b[0m: No module named 'langfuse.callback'"
     ]
    }
   ],
   "source": [
    "from langfuse.callback import CallbackHandler\n",
    "\n",
    "# Initialize Langfuse CallbackHandler for LangGraph/Langchain (tracing)\n",
    "langfuse_handler = CallbackHandler()"
   ]
  },
  {
   "cell_type": "code",
   "execution_count": 13,
   "metadata": {
    "id": "HR20UOfVYk3x"
   },
   "outputs": [
    {
     "name": "stderr",
     "output_type": "stream",
     "text": [
      "/var/folders/8x/dpn3b6yn343g19p96qcctpgj3nptmd/T/ipykernel_49909/3660100367.py:38: PydanticDeprecatedSince20: The `dict` method is deprecated; use `model_dump` instead. Deprecated in Pydantic V2.0 to be removed in V3.0. See Pydantic V2 Migration Guide at https://errors.pydantic.dev/2.11/migration/\n",
      "  return resume.dict()\n",
      "/var/folders/8x/dpn3b6yn343g19p96qcctpgj3nptmd/T/ipykernel_49909/3660100367.py:25: PydanticDeprecatedSince20: The `dict` method is deprecated; use `model_dump` instead. Deprecated in Pydantic V2.0 to be removed in V3.0. See Pydantic V2 Migration Guide at https://errors.pydantic.dev/2.11/migration/\n",
      "  return job.dict()\n"
     ]
    }
   ],
   "source": [
    "# Invoke the agent once (no prior history besides this prompt).\n",
    "result = app.invoke(\n",
    "    {\"messages\": [HumanMessage(content=example_query)]},\n",
    "    config={\"configurable\": {\"thread_id\": 1}}\n",
    ")\n"
   ]
  },
  {
   "cell_type": "code",
   "execution_count": 14,
   "metadata": {
    "colab": {
     "base_uri": "https://localhost:8080/"
    },
    "id": "Q7KxgiiWYlvC",
    "outputId": "4d9b490e-3567-4c5e-e006-3f0328b5db05"
   },
   "outputs": [
    {
     "name": "stdout",
     "output_type": "stream",
     "text": [
      "Agent Response:\n",
      "\n",
      "Based on the Software Engineer position at Tech Corp and your current resume, here are some suggestions to optimize your resume:\n",
      "\n",
      "### Professional Summary\n",
      "- **Current:** \"Innovative software engineer with 8+ years of experience in the tech industry...\"\n",
      "- **Suggested Addition:** Emphasize your experience in writing scalable and efficient code, as well as your collaboration skills, which are key requirements for the Tech Corp role.\n",
      "\n",
      "### Work Experience\n",
      "1. **Senior Developer at Company X**\n",
      "   - Your experience here aligns well with the job description. Highlight your experience in \"writing clean, scalable, and efficient code\" directly in this section to match Tech Corp's requirements.\n",
      "\n",
      "2. **Freelance Software Architect**\n",
      "   - Emphasize your \"troubleshooting and debugging\" skills, as these are important for the Tech Corp role. You can mention specific projects where you demonstrated these skills.\n",
      "\n",
      "3. **Junior Developer at Company Y**\n",
      "   - Ensure to mention any specific web application projects you contributed to, aligning with the requirement of developing and maintaining web applications.\n",
      "\n",
      "### Skills\n",
      "- **Current Skills:** Software Architecture, System Optimization, Team Mentorship, Project Management, API Development, Continuous Integration/Continuous Deployment, Bilingual.\n",
      "- **Suggested Additions:**\n",
      "  - Add \"Troubleshooting and Debugging\" if applicable from your past experiences.\n",
      "  - Highlight \"Collaboration\" or \"Cross-functional Team Collaboration\" to align with the job requirement of collaborating with cross-functional teams.\n",
      "\n",
      "### Additional Notes\n",
      "- **Education:** Your educational background in Computer Science is a good fit.\n",
      "- **Projects:** If you have specific projects or accomplishments that demonstrate your ability to develop and maintain web applications or contribute to code reviews, include these in your resume.\n",
      "- **Certifications:** If you have any relevant certifications in programming languages or frameworks used at Tech Corp, consider adding them if applicable.\n",
      "\n",
      "These tailored modifications will better align your resume with the responsibilities and skills required for the Software Engineer position at Tech Corp.\n"
     ]
    }
   ],
   "source": [
    "print(\"Agent Response:\\n\")\n",
    "print(result[\"messages\"][-1].content)"
   ]
  }
 ],
 "metadata": {
  "colab": {
   "provenance": []
  },
  "kernelspec": {
   "display_name": "Python 3 (ipykernel)",
   "language": "python",
   "name": "python3"
  },
  "language_info": {
   "codemirror_mode": {
    "name": "ipython",
    "version": 3
   },
   "file_extension": ".py",
   "mimetype": "text/x-python",
   "name": "python",
   "nbconvert_exporter": "python",
   "pygments_lexer": "ipython3",
   "version": "3.11.13"
  }
 },
 "nbformat": 4,
 "nbformat_minor": 4
}
